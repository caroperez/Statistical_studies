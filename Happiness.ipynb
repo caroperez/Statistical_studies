{
 "cells": [
  {
   "cell_type": "markdown",
   "metadata": {},
   "source": [
    "# Happiness in the world in 2019"
   ]
  },
  {
   "cell_type": "markdown",
   "metadata": {},
   "source": [
    "We all know that 2020 is being a very hard year, both in terms of health, and social and economic, but... Which of these parameters can have the greatest impact on people's happiness? Is it the same in all parts of the world or is it culturally independent?\n",
    "\n",
    "For this, we will carry out an analysis of the happiness data in 2019 just with other important aspects to carry out the study.\n",
    "\n",
    "The happiness scores and rankings use data from the Gallup World Poll. The scores are based on answers to the main life evaluation question asked in the poll. This question, known as the Cantril ladder, asks respondents to think of a ladder with the best possible life for them being a 10 and the worst possible life being a 0 and to rate their own current lives on that scale. The scores are from nationally representative samples for the years 2013-2016 and use the Gallup weights to make the estimates representative."
   ]
  },
  {
   "cell_type": "code",
   "execution_count": 2,
   "metadata": {},
   "outputs": [
    {
     "data": {
      "text/html": [
       "<div>\n",
       "<style scoped>\n",
       "    .dataframe tbody tr th:only-of-type {\n",
       "        vertical-align: middle;\n",
       "    }\n",
       "\n",
       "    .dataframe tbody tr th {\n",
       "        vertical-align: top;\n",
       "    }\n",
       "\n",
       "    .dataframe thead th {\n",
       "        text-align: right;\n",
       "    }\n",
       "</style>\n",
       "<table border=\"1\" class=\"dataframe\">\n",
       "  <thead>\n",
       "    <tr style=\"text-align: right;\">\n",
       "      <th></th>\n",
       "      <th>Overall rank</th>\n",
       "      <th>Country or region</th>\n",
       "      <th>Score</th>\n",
       "      <th>GDP per capita</th>\n",
       "      <th>Social support</th>\n",
       "      <th>Healthy life expectancy</th>\n",
       "      <th>Freedom to make life choices</th>\n",
       "      <th>Generosity</th>\n",
       "      <th>Perceptions of corruption</th>\n",
       "    </tr>\n",
       "  </thead>\n",
       "  <tbody>\n",
       "    <tr>\n",
       "      <th>0</th>\n",
       "      <td>1</td>\n",
       "      <td>Finland</td>\n",
       "      <td>7769</td>\n",
       "      <td>1340</td>\n",
       "      <td>1587</td>\n",
       "      <td>986</td>\n",
       "      <td>596</td>\n",
       "      <td>153</td>\n",
       "      <td>393</td>\n",
       "    </tr>\n",
       "    <tr>\n",
       "      <th>1</th>\n",
       "      <td>2</td>\n",
       "      <td>Denmark</td>\n",
       "      <td>7600</td>\n",
       "      <td>1383</td>\n",
       "      <td>1573</td>\n",
       "      <td>996</td>\n",
       "      <td>592</td>\n",
       "      <td>252</td>\n",
       "      <td>410</td>\n",
       "    </tr>\n",
       "    <tr>\n",
       "      <th>2</th>\n",
       "      <td>3</td>\n",
       "      <td>Norway</td>\n",
       "      <td>7554</td>\n",
       "      <td>1488</td>\n",
       "      <td>1582</td>\n",
       "      <td>1028</td>\n",
       "      <td>603</td>\n",
       "      <td>271</td>\n",
       "      <td>341</td>\n",
       "    </tr>\n",
       "    <tr>\n",
       "      <th>3</th>\n",
       "      <td>4</td>\n",
       "      <td>Iceland</td>\n",
       "      <td>7494</td>\n",
       "      <td>1380</td>\n",
       "      <td>1624</td>\n",
       "      <td>1026</td>\n",
       "      <td>591</td>\n",
       "      <td>354</td>\n",
       "      <td>118</td>\n",
       "    </tr>\n",
       "    <tr>\n",
       "      <th>4</th>\n",
       "      <td>5</td>\n",
       "      <td>Netherlands</td>\n",
       "      <td>7488</td>\n",
       "      <td>1396</td>\n",
       "      <td>1522</td>\n",
       "      <td>999</td>\n",
       "      <td>557</td>\n",
       "      <td>322</td>\n",
       "      <td>298</td>\n",
       "    </tr>\n",
       "  </tbody>\n",
       "</table>\n",
       "</div>"
      ],
      "text/plain": [
       "   Overall rank Country or region  Score  GDP per capita  Social support  \\\n",
       "0             1           Finland   7769            1340            1587   \n",
       "1             2           Denmark   7600            1383            1573   \n",
       "2             3            Norway   7554            1488            1582   \n",
       "3             4           Iceland   7494            1380            1624   \n",
       "4             5       Netherlands   7488            1396            1522   \n",
       "\n",
       "   Healthy life expectancy  Freedom to make life choices  Generosity  \\\n",
       "0                      986                           596         153   \n",
       "1                      996                           592         252   \n",
       "2                     1028                           603         271   \n",
       "3                     1026                           591         354   \n",
       "4                      999                           557         322   \n",
       "\n",
       "   Perceptions of corruption  \n",
       "0                        393  \n",
       "1                        410  \n",
       "2                        341  \n",
       "3                        118  \n",
       "4                        298  "
      ]
     },
     "execution_count": 2,
     "metadata": {},
     "output_type": "execute_result"
    }
   ],
   "source": [
    "# packages\n",
    "import pandas as pd \n",
    "\n",
    "# Read datafile cvs with pandas\n",
    "data = pd.read_csv('happy_2019.csv') \n",
    "\n",
    "# first 5 lines of the loaded data \n",
    "data.head()"
   ]
  },
  {
   "cell_type": "code",
   "execution_count": 3,
   "metadata": {},
   "outputs": [
    {
     "name": "stdout",
     "output_type": "stream",
     "text": [
      "Index(['Overall rank', 'Country or region', 'Score', 'GDP per capita',\n",
      "       'Social support', 'Healthy life expectancy',\n",
      "       'Freedom to make life choices', 'Generosity',\n",
      "       'Perceptions of corruption'],\n",
      "      dtype='object') \n",
      "\n",
      "Overall rank                     int64\n",
      "Country or region               object\n",
      "Score                            int64\n",
      "GDP per capita                   int64\n",
      "Social support                   int64\n",
      "Healthy life expectancy          int64\n",
      "Freedom to make life choices     int64\n",
      "Generosity                       int64\n",
      "Perceptions of corruption        int64\n",
      "dtype: object\n"
     ]
    }
   ],
   "source": [
    "# we need to see the columns completely\n",
    "print(data.columns, '\\n') # I use \\n for add space\n",
    "\n",
    "# type of data by variable\n",
    "print(data.dtypes)"
   ]
  },
  {
   "cell_type": "markdown",
   "metadata": {},
   "source": [
    "We can see the names of the columns. The columns provide the values of the variables of 6 factors: economic production, social support, life expectancy, freedom, absence of corruption and generosity. In principle, in a utopia, we should observe maximum values in each of the variables, while in a dystrophy, we would observe minimum values in each of the columns.\n",
    "\n",
    "To make a quick look to see which of the variables can be important, we will make a correlation matrix between numerical variables."
   ]
  },
  {
   "cell_type": "code",
   "execution_count": 4,
   "metadata": {},
   "outputs": [
    {
     "data": {
      "text/html": [
       "<div>\n",
       "<style scoped>\n",
       "    .dataframe tbody tr th:only-of-type {\n",
       "        vertical-align: middle;\n",
       "    }\n",
       "\n",
       "    .dataframe tbody tr th {\n",
       "        vertical-align: top;\n",
       "    }\n",
       "\n",
       "    .dataframe thead th {\n",
       "        text-align: right;\n",
       "    }\n",
       "</style>\n",
       "<table border=\"1\" class=\"dataframe\">\n",
       "  <thead>\n",
       "    <tr style=\"text-align: right;\">\n",
       "      <th></th>\n",
       "      <th>Freedom to make life choices</th>\n",
       "      <th>GDP per capita</th>\n",
       "      <th>Generosity</th>\n",
       "      <th>Healthy life expectancy</th>\n",
       "      <th>Perceptions of corruption</th>\n",
       "      <th>Score</th>\n",
       "      <th>Social support</th>\n",
       "    </tr>\n",
       "  </thead>\n",
       "  <tbody>\n",
       "    <tr>\n",
       "      <th>Freedom to make life choices</th>\n",
       "      <td>1.000000</td>\n",
       "      <td>0.379079</td>\n",
       "      <td>0.269742</td>\n",
       "      <td>0.390395</td>\n",
       "      <td>0.438843</td>\n",
       "      <td>0.566742</td>\n",
       "      <td>0.447333</td>\n",
       "    </tr>\n",
       "    <tr>\n",
       "      <th>GDP per capita</th>\n",
       "      <td>0.379079</td>\n",
       "      <td>1.000000</td>\n",
       "      <td>-0.079662</td>\n",
       "      <td>0.835462</td>\n",
       "      <td>0.298920</td>\n",
       "      <td>0.793883</td>\n",
       "      <td>0.754906</td>\n",
       "    </tr>\n",
       "    <tr>\n",
       "      <th>Generosity</th>\n",
       "      <td>0.269742</td>\n",
       "      <td>-0.079662</td>\n",
       "      <td>1.000000</td>\n",
       "      <td>-0.029511</td>\n",
       "      <td>0.326538</td>\n",
       "      <td>0.075824</td>\n",
       "      <td>-0.048126</td>\n",
       "    </tr>\n",
       "    <tr>\n",
       "      <th>Healthy life expectancy</th>\n",
       "      <td>0.390395</td>\n",
       "      <td>0.835462</td>\n",
       "      <td>-0.029511</td>\n",
       "      <td>1.000000</td>\n",
       "      <td>0.295283</td>\n",
       "      <td>0.779883</td>\n",
       "      <td>0.719009</td>\n",
       "    </tr>\n",
       "    <tr>\n",
       "      <th>Perceptions of corruption</th>\n",
       "      <td>0.438843</td>\n",
       "      <td>0.298920</td>\n",
       "      <td>0.326538</td>\n",
       "      <td>0.295283</td>\n",
       "      <td>1.000000</td>\n",
       "      <td>0.385613</td>\n",
       "      <td>0.181899</td>\n",
       "    </tr>\n",
       "    <tr>\n",
       "      <th>Score</th>\n",
       "      <td>0.566742</td>\n",
       "      <td>0.793883</td>\n",
       "      <td>0.075824</td>\n",
       "      <td>0.779883</td>\n",
       "      <td>0.385613</td>\n",
       "      <td>1.000000</td>\n",
       "      <td>0.777058</td>\n",
       "    </tr>\n",
       "    <tr>\n",
       "      <th>Social support</th>\n",
       "      <td>0.447333</td>\n",
       "      <td>0.754906</td>\n",
       "      <td>-0.048126</td>\n",
       "      <td>0.719009</td>\n",
       "      <td>0.181899</td>\n",
       "      <td>0.777058</td>\n",
       "      <td>1.000000</td>\n",
       "    </tr>\n",
       "  </tbody>\n",
       "</table>\n",
       "</div>"
      ],
      "text/plain": [
       "                              Freedom to make life choices  GDP per capita  \\\n",
       "Freedom to make life choices                      1.000000        0.379079   \n",
       "GDP per capita                                    0.379079        1.000000   \n",
       "Generosity                                        0.269742       -0.079662   \n",
       "Healthy life expectancy                           0.390395        0.835462   \n",
       "Perceptions of corruption                         0.438843        0.298920   \n",
       "Score                                             0.566742        0.793883   \n",
       "Social support                                    0.447333        0.754906   \n",
       "\n",
       "                              Generosity  Healthy life expectancy  \\\n",
       "Freedom to make life choices    0.269742                 0.390395   \n",
       "GDP per capita                 -0.079662                 0.835462   \n",
       "Generosity                      1.000000                -0.029511   \n",
       "Healthy life expectancy        -0.029511                 1.000000   \n",
       "Perceptions of corruption       0.326538                 0.295283   \n",
       "Score                           0.075824                 0.779883   \n",
       "Social support                 -0.048126                 0.719009   \n",
       "\n",
       "                              Perceptions of corruption     Score  \\\n",
       "Freedom to make life choices                   0.438843  0.566742   \n",
       "GDP per capita                                 0.298920  0.793883   \n",
       "Generosity                                     0.326538  0.075824   \n",
       "Healthy life expectancy                        0.295283  0.779883   \n",
       "Perceptions of corruption                      1.000000  0.385613   \n",
       "Score                                          0.385613  1.000000   \n",
       "Social support                                 0.181899  0.777058   \n",
       "\n",
       "                              Social support  \n",
       "Freedom to make life choices        0.447333  \n",
       "GDP per capita                      0.754906  \n",
       "Generosity                         -0.048126  \n",
       "Healthy life expectancy             0.719009  \n",
       "Perceptions of corruption           0.181899  \n",
       "Score                               0.777058  \n",
       "Social support                      1.000000  "
      ]
     },
     "execution_count": 4,
     "metadata": {},
     "output_type": "execute_result"
    }
   ],
   "source": [
    "# we exclude 'Overall rank' column\n",
    "df1 = data[data.columns.difference([\"Overall rank\"])]\n",
    "\n",
    "# show table with correlations between variables\n",
    "coor = df1.corr()\n",
    "coor"
   ]
  },
  {
   "cell_type": "code",
   "execution_count": 5,
   "metadata": {},
   "outputs": [
    {
     "data": {
      "text/plain": [
       "<matplotlib.axes._subplots.AxesSubplot at 0x1d763d86688>"
      ]
     },
     "execution_count": 5,
     "metadata": {},
     "output_type": "execute_result"
    },
    {
     "data": {
      "image/png": "[encoded data removed]",
      "text/plain": [
       "<Figure size 432x288 with 2 Axes>"
      ]
     },
     "metadata": {
      "needs_background": "light"
     },
     "output_type": "display_data"
    }
   ],
   "source": [
    "# package for plot\n",
    "import seaborn as sns\n",
    "\n",
    "# plot\n",
    "sns.heatmap(coor, xticklabels = coor.columns.values, yticklabels = coor.columns.values)"
   ]
  },
  {
   "cell_type": "markdown",
   "metadata": {},
   "source": [
    "We can observe in the color scale, the values closer to 1 (perfect correlation), acquire a softer tone. Thus, looking at the variable 'Score' on the graph and looking for the smoothest colors with the variables that are correlated, we find that 'GPD per capita', 'Heathly life expected' and 'Social support', are the variables with the highest correlation with the score in happiness.\n",
    "\n",
    "Now that we have this information, we will try to obtain a model that explains this correlation to try to analyze this case. The study will be conducted first for each of the variables. Then we will make a correlation model for the three variables.\n",
    "\n",
    "Before making the correlation model, we must know if our data have a normal distribution, to which we will make a Pearson's R. In case of not following a normal distribution, it is a nonparametric study, a Spearman's Rank correlation."
   ]
  },
  {
   "cell_type": "markdown",
   "metadata": {},
   "source": [
    "## Study of data distributions"
   ]
  },
  {
   "cell_type": "markdown",
   "metadata": {},
   "source": [
    "Normal distribution, also known as Gaussian distribution, is a probability function that describes how the values of a variable are distributed. It is a symmetric distribution in which most observations fall around the central peak and the probabilities of values farther from the mean decrease equally in both directions, with fewer outliers at the upper and lower ends of the data range."
   ]
  },
  {
   "cell_type": "code",
   "execution_count": 6,
   "metadata": {},
   "outputs": [
    {
     "data": {
      "text/plain": [
       "<matplotlib.axes._subplots.AxesSubplot at 0x1d765fe4748>"
      ]
     },
     "execution_count": 6,
     "metadata": {},
     "output_type": "execute_result"
    },
    {
     "data": {
      "image/png": "[encoded data removed]",
      "text/plain": [
       "<Figure size 432x288 with 1 Axes>"
      ]
     },
     "metadata": {
      "needs_background": "light"
     },
     "output_type": "display_data"
    }
   ],
   "source": [
    "# example of a normal distribution\n",
    "# package\n",
    "import numpy as np\n",
    "\n",
    "\n",
    "# data\n",
    "x = np.random.normal(1, .5, 10000) # 10000 numbers normal distribution with mean 1 and standar desviation 0.5\n",
    "\n",
    "# plot\n",
    "sns.distplot(x)"
   ]
  },
  {
   "cell_type": "markdown",
   "metadata": {},
   "source": [
    "### Scrore"
   ]
  },
  {
   "cell_type": "code",
   "execution_count": 7,
   "metadata": {},
   "outputs": [
    {
     "data": {
      "text/plain": [
       "<matplotlib.axes._subplots.AxesSubplot at 0x1d766121d88>"
      ]
     },
     "execution_count": 7,
     "metadata": {},
     "output_type": "execute_result"
    },
    {
     "data": {
      "image/png": "[encoded data removed]",
      "text/plain": [
       "<Figure size 432x288 with 1 Axes>"
      ]
     },
     "metadata": {
      "needs_background": "light"
     },
     "output_type": "display_data"
    }
   ],
   "source": [
    "# data\n",
    "x = df1['Score']\n",
    "\n",
    "# plot\n",
    "sns.distplot(x)"
   ]
  },
  {
   "cell_type": "markdown",
   "metadata": {},
   "source": [
    "We can easily see that this is a normal distribution."
   ]
  },
  {
   "cell_type": "markdown",
   "metadata": {},
   "source": [
    "### GDP per capita"
   ]
  },
  {
   "cell_type": "code",
   "execution_count": 8,
   "metadata": {},
   "outputs": [
    {
     "ename": "NameError",
     "evalue": "name 'plt' is not defined",
     "output_type": "error",
     "traceback": [
      "\u001b[1;31m---------------------------------------------------------------------------\u001b[0m",
      "\u001b[1;31mNameError\u001b[0m                                 Traceback (most recent call last)",
      "\u001b[1;32m<ipython-input-8-1b4a33ae5a21>\u001b[0m in \u001b[0;36m<module>\u001b[1;34m\u001b[0m\n\u001b[0;32m      6\u001b[0m \u001b[1;33m\u001b[0m\u001b[0m\n\u001b[0;32m      7\u001b[0m \u001b[1;31m# show\u001b[0m\u001b[1;33m\u001b[0m\u001b[1;33m\u001b[0m\u001b[1;33m\u001b[0m\u001b[0m\n\u001b[1;32m----> 8\u001b[1;33m \u001b[0mplt\u001b[0m\u001b[1;33m.\u001b[0m\u001b[0mshow\u001b[0m\u001b[1;33m(\u001b[0m\u001b[1;33m)\u001b[0m\u001b[1;33m\u001b[0m\u001b[1;33m\u001b[0m\u001b[0m\n\u001b[0m",
      "\u001b[1;31mNameError\u001b[0m: name 'plt' is not defined"
     ]
    },
    {
     "data": {
      "image/png": "[encoded data removed]",
      "text/plain": [
       "<Figure size 432x288 with 1 Axes>"
      ]
     },
     "metadata": {
      "needs_background": "light"
     },
     "output_type": "display_data"
    }
   ],
   "source": [
    "# data\n",
    "x = df1['GDP per capita']\n",
    "\n",
    "# plot\n",
    "sns.distplot(x)\n",
    "\n",
    "# show\n",
    "plt.show()"
   ]
  },
  {
   "cell_type": "markdown",
   "metadata": {},
   "source": [
    "It is not very clear if it is a normal distribution, for this reason, we are going to deepen making a q-q plot and a Shapiro-Wills test."
   ]
  },
  {
   "cell_type": "code",
   "execution_count": 9,
   "metadata": {},
   "outputs": [
    {
     "name": "stdout",
     "output_type": "stream",
     "text": [
      "Stats = 0.9652916193008423   p-value = 0.000582209147978574\n"
     ]
    },
    {
     "data": {
      "image/png": "[encoded data removed]",
      "text/plain": [
       "<Figure size 432x288 with 1 Axes>"
      ]
     },
     "metadata": {
      "needs_background": "light"
     },
     "output_type": "display_data"
    }
   ],
   "source": [
    "# package\n",
    "import scipy.stats as stats # needed for normal study\n",
    "import pylab as pylab # needed for the qq plot\n",
    "\n",
    "# Shapiro Wills test\n",
    "stat, pvalue = stats.shapiro(x)\n",
    "print(\"Stats = {}   p-value = {}\".format(stat, pvalue))\n",
    "\n",
    "# quartil-quartil plot\n",
    "stats.probplot(x, dist = 'norm', plot = pylab)\n",
    "pylab.show()"
   ]
  },
  {
   "cell_type": "markdown",
   "metadata": {},
   "source": [
    "We can now clearly see that this is a normal distribution, both in the qqplot graph and in the Shapiro Will test, since its pvalue is less than 0.05"
   ]
  },
  {
   "cell_type": "markdown",
   "metadata": {},
   "source": [
    "### Healthy life expectancy"
   ]
  },
  {
   "cell_type": "code",
   "execution_count": 10,
   "metadata": {},
   "outputs": [
    {
     "data": {
      "text/plain": [
       "<matplotlib.axes._subplots.AxesSubplot at 0x1d766730088>"
      ]
     },
     "execution_count": 10,
     "metadata": {},
     "output_type": "execute_result"
    },
    {
     "data": {
      "image/png": "[encoded data removed]",
      "text/plain": [
       "<Figure size 432x288 with 1 Axes>"
      ]
     },
     "metadata": {
      "needs_background": "light"
     },
     "output_type": "display_data"
    }
   ],
   "source": [
    "# data\n",
    "x = df1['Healthy life expectancy']\n",
    "\n",
    "# plot\n",
    "sns.distplot(x)"
   ]
  },
  {
   "cell_type": "code",
   "execution_count": 11,
   "metadata": {},
   "outputs": [
    {
     "name": "stdout",
     "output_type": "stream",
     "text": [
      "Stats = 0.9534121155738831   p-value = 4.4986856664763764e-05\n"
     ]
    },
    {
     "data": {
      "image/png": "[encoded data removed]",
      "text/plain": [
       "<Figure size 432x288 with 1 Axes>"
      ]
     },
     "metadata": {
      "needs_background": "light"
     },
     "output_type": "display_data"
    }
   ],
   "source": [
    "# package\n",
    "import scipy.stats as stats # needed for normal study\n",
    "import pylab as pylab # needed for the qq plot\n",
    "\n",
    "# Shapiro Wills test\n",
    "stat, pvalue = stats.shapiro(x)\n",
    "print(\"Stats = {}   p-value = {}\".format(stat, pvalue))\n",
    "\n",
    "# quartil-quartil plot\n",
    "stats.probplot(x, dist = 'norm', plot = pylab)\n",
    "pylab.show()"
   ]
  },
  {
   "cell_type": "markdown",
   "metadata": {},
   "source": [
    "### Social support"
   ]
  },
  {
   "cell_type": "code",
   "execution_count": 12,
   "metadata": {},
   "outputs": [
    {
     "data": {
      "text/plain": [
       "<matplotlib.axes._subplots.AxesSubplot at 0x1d766812848>"
      ]
     },
     "execution_count": 12,
     "metadata": {},
     "output_type": "execute_result"
    },
    {
     "data": {
      "image/png": "[encoded data removed]",
      "text/plain": [
       "<Figure size 432x288 with 1 Axes>"
      ]
     },
     "metadata": {
      "needs_background": "light"
     },
     "output_type": "display_data"
    }
   ],
   "source": [
    "# data\n",
    "x = df1['Social support']\n",
    "\n",
    "# plot\n",
    "sns.distplot(x)"
   ]
  },
  {
   "cell_type": "code",
   "execution_count": 13,
   "metadata": {},
   "outputs": [
    {
     "name": "stdout",
     "output_type": "stream",
     "text": [
      "Stats = 0.9073694348335266   p-value = 2.1575829123321455e-08\n"
     ]
    },
    {
     "data": {
      "image/png": "[encoded data removed]",
      "text/plain": [
       "<Figure size 432x288 with 1 Axes>"
      ]
     },
     "metadata": {
      "needs_background": "light"
     },
     "output_type": "display_data"
    }
   ],
   "source": [
    "# package\n",
    "import scipy.stats as stats # needed for normal study\n",
    "import pylab as pylab # needed for the qq plot\n",
    "\n",
    "# Shapiro Wills test\n",
    "stat, pvalue = stats.shapiro(x)\n",
    "print(\"Stats = {}   p-value = {}\".format(stat, pvalue))\n",
    "\n",
    "# quartil-quartil plot\n",
    "stats.probplot(x, dist = 'norm', plot = pylab)\n",
    "pylab.show()"
   ]
  },
  {
   "cell_type": "markdown",
   "metadata": {},
   "source": [
    "In the four variables, a normal distribution has been found, so we can perform a correlation study of Pearson's R"
   ]
  },
  {
   "cell_type": "markdown",
   "metadata": {},
   "source": [
    "## Lineal model that explains happiness through GPD per capita"
   ]
  },
  {
   "cell_type": "code",
   "execution_count": 52,
   "metadata": {},
   "outputs": [
    {
     "name": "stdout",
     "output_type": "stream",
     "text": [
      "Country or region    False\n",
      "Score                False\n",
      "GDP per capita       False\n",
      "dtype: bool\n"
     ]
    },
    {
     "data": {
      "text/html": [
       "<div>\n",
       "<style scoped>\n",
       "    .dataframe tbody tr th:only-of-type {\n",
       "        vertical-align: middle;\n",
       "    }\n",
       "\n",
       "    .dataframe tbody tr th {\n",
       "        vertical-align: top;\n",
       "    }\n",
       "\n",
       "    .dataframe thead th {\n",
       "        text-align: right;\n",
       "    }\n",
       "</style>\n",
       "<table border=\"1\" class=\"dataframe\">\n",
       "  <thead>\n",
       "    <tr style=\"text-align: right;\">\n",
       "      <th></th>\n",
       "      <th>Score</th>\n",
       "      <th>GDP per capita</th>\n",
       "    </tr>\n",
       "  </thead>\n",
       "  <tbody>\n",
       "    <tr>\n",
       "      <th>count</th>\n",
       "      <td>156.000000</td>\n",
       "      <td>156.000000</td>\n",
       "    </tr>\n",
       "    <tr>\n",
       "      <th>mean</th>\n",
       "      <td>5407.096154</td>\n",
       "      <td>905.147436</td>\n",
       "    </tr>\n",
       "    <tr>\n",
       "      <th>std</th>\n",
       "      <td>1113.119869</td>\n",
       "      <td>398.389464</td>\n",
       "    </tr>\n",
       "    <tr>\n",
       "      <th>min</th>\n",
       "      <td>2853.000000</td>\n",
       "      <td>0.000000</td>\n",
       "    </tr>\n",
       "    <tr>\n",
       "      <th>25%</th>\n",
       "      <td>4544.500000</td>\n",
       "      <td>602.750000</td>\n",
       "    </tr>\n",
       "    <tr>\n",
       "      <th>50%</th>\n",
       "      <td>5379.500000</td>\n",
       "      <td>960.000000</td>\n",
       "    </tr>\n",
       "    <tr>\n",
       "      <th>75%</th>\n",
       "      <td>6184.500000</td>\n",
       "      <td>1232.500000</td>\n",
       "    </tr>\n",
       "    <tr>\n",
       "      <th>max</th>\n",
       "      <td>7769.000000</td>\n",
       "      <td>1684.000000</td>\n",
       "    </tr>\n",
       "  </tbody>\n",
       "</table>\n",
       "</div>"
      ],
      "text/plain": [
       "             Score  GDP per capita\n",
       "count   156.000000      156.000000\n",
       "mean   5407.096154      905.147436\n",
       "std    1113.119869      398.389464\n",
       "min    2853.000000        0.000000\n",
       "25%    4544.500000      602.750000\n",
       "50%    5379.500000      960.000000\n",
       "75%    6184.500000     1232.500000\n",
       "max    7769.000000     1684.000000"
      ]
     },
     "execution_count": 52,
     "metadata": {},
     "output_type": "execute_result"
    }
   ],
   "source": [
    "# First, we have to select the data we want.\n",
    "df2 = data[['Country or region', 'Score', 'GDP per capita']]\n",
    "\n",
    "# now we must see if there are missing data \n",
    "print(df2.isna().any())\n",
    "\n",
    "# and a little summary of data\n",
    "df2[['Score', 'GDP per capita']].describe()"
   ]
  },
  {
   "cell_type": "markdown",
   "metadata": {},
   "source": [
    "We have not observed NA data, but instead, we have detected null (zero) data in GPD per capita. This could be equivalent to missing data for a particular country and could hurt our model."
   ]
  },
  {
   "cell_type": "code",
   "execution_count": 53,
   "metadata": {},
   "outputs": [
    {
     "data": {
      "text/html": [
       "<div>\n",
       "<style scoped>\n",
       "    .dataframe tbody tr th:only-of-type {\n",
       "        vertical-align: middle;\n",
       "    }\n",
       "\n",
       "    .dataframe tbody tr th {\n",
       "        vertical-align: top;\n",
       "    }\n",
       "\n",
       "    .dataframe thead th {\n",
       "        text-align: right;\n",
       "    }\n",
       "</style>\n",
       "<table border=\"1\" class=\"dataframe\">\n",
       "  <thead>\n",
       "    <tr style=\"text-align: right;\">\n",
       "      <th></th>\n",
       "      <th>Country or region</th>\n",
       "      <th>Score</th>\n",
       "      <th>GDP per capita</th>\n",
       "    </tr>\n",
       "  </thead>\n",
       "  <tbody>\n",
       "    <tr>\n",
       "      <th>111</th>\n",
       "      <td>Somalia</td>\n",
       "      <td>4668</td>\n",
       "      <td>0</td>\n",
       "    </tr>\n",
       "  </tbody>\n",
       "</table>\n",
       "</div>"
      ],
      "text/plain": [
       "    Country or region  Score  GDP per capita\n",
       "111           Somalia   4668               0"
      ]
     },
     "execution_count": 53,
     "metadata": {},
     "output_type": "execute_result"
    }
   ],
   "source": [
    "# Let's see the countries with a value of 0 in GDP per capita\n",
    "df2[df2['GDP per capita'] == 0]"
   ]
  },
  {
   "cell_type": "markdown",
   "metadata": {},
   "source": [
    "We can see that Somalia has a happiness score slightly below the average, 4668 for the average of 5407. However, the standard deviation of happiness is 1113, which makes us think that this is quite correct, as opposed to GDP per capita, which is 0.\n",
    "\n",
    "We will remove Somalia from our data to avoid problems in our correlation model."
   ]
  },
  {
   "cell_type": "code",
   "execution_count": 54,
   "metadata": {},
   "outputs": [
    {
     "data": {
      "text/html": [
       "<div>\n",
       "<style scoped>\n",
       "    .dataframe tbody tr th:only-of-type {\n",
       "        vertical-align: middle;\n",
       "    }\n",
       "\n",
       "    .dataframe tbody tr th {\n",
       "        vertical-align: top;\n",
       "    }\n",
       "\n",
       "    .dataframe thead th {\n",
       "        text-align: right;\n",
       "    }\n",
       "</style>\n",
       "<table border=\"1\" class=\"dataframe\">\n",
       "  <thead>\n",
       "    <tr style=\"text-align: right;\">\n",
       "      <th></th>\n",
       "      <th>Score</th>\n",
       "      <th>GDP per capita</th>\n",
       "    </tr>\n",
       "  </thead>\n",
       "  <tbody>\n",
       "    <tr>\n",
       "      <th>count</th>\n",
       "      <td>155.000000</td>\n",
       "      <td>155.000000</td>\n",
       "    </tr>\n",
       "    <tr>\n",
       "      <th>mean</th>\n",
       "      <td>5411.864516</td>\n",
       "      <td>910.987097</td>\n",
       "    </tr>\n",
       "    <tr>\n",
       "      <th>std</th>\n",
       "      <td>1115.128460</td>\n",
       "      <td>392.925408</td>\n",
       "    </tr>\n",
       "    <tr>\n",
       "      <th>min</th>\n",
       "      <td>2853.000000</td>\n",
       "      <td>26.000000</td>\n",
       "    </tr>\n",
       "    <tr>\n",
       "      <th>25%</th>\n",
       "      <td>4541.000000</td>\n",
       "      <td>615.000000</td>\n",
       "    </tr>\n",
       "    <tr>\n",
       "      <th>50%</th>\n",
       "      <td>5386.000000</td>\n",
       "      <td>960.000000</td>\n",
       "    </tr>\n",
       "    <tr>\n",
       "      <th>75%</th>\n",
       "      <td>6187.000000</td>\n",
       "      <td>1234.000000</td>\n",
       "    </tr>\n",
       "    <tr>\n",
       "      <th>max</th>\n",
       "      <td>7769.000000</td>\n",
       "      <td>1684.000000</td>\n",
       "    </tr>\n",
       "  </tbody>\n",
       "</table>\n",
       "</div>"
      ],
      "text/plain": [
       "             Score  GDP per capita\n",
       "count   155.000000      155.000000\n",
       "mean   5411.864516      910.987097\n",
       "std    1115.128460      392.925408\n",
       "min    2853.000000       26.000000\n",
       "25%    4541.000000      615.000000\n",
       "50%    5386.000000      960.000000\n",
       "75%    6187.000000     1234.000000\n",
       "max    7769.000000     1684.000000"
      ]
     },
     "execution_count": 54,
     "metadata": {},
     "output_type": "execute_result"
    }
   ],
   "source": [
    "# drop Somalia\n",
    "df2_clean = df2.drop([111]).copy()\n",
    "\n",
    "# let's see summary\n",
    "df2_clean[['Score', 'GDP per capita']].describe()"
   ]
  },
  {
   "cell_type": "markdown",
   "metadata": {},
   "source": [
    "Now we will make a graph to see if there is any relation a priori between 'GDP per capita' and 'Score'."
   ]
  },
  {
   "cell_type": "code",
   "execution_count": 55,
   "metadata": {},
   "outputs": [
    {
     "data": {
      "image/png": "[encoded data removed]",
      "text/plain": [
       "<Figure size 700x490 with 1 Axes>"
      ]
     },
     "metadata": {
      "needs_background": "light"
     },
     "output_type": "display_data"
    }
   ],
   "source": [
    "# package\n",
    "import matplotlib.pyplot as plt # for plot wit matplotlib\n",
    "\n",
    "# data\n",
    "y_axis = df2_clean['Score'] # possible dependent variable\n",
    "x_axis = df2_clean['GDP per capita'] # possible independent variable\n",
    "\n",
    "# Plot\n",
    "plt.figure(figsize= (10, 7), dpi= 70) # size plot\n",
    "plt.scatter(x_axis, y_axis, alpha=0.5) # assignment of the variables to the axes\n",
    "\n",
    "plt.title('Score / GDP per capita') # tittle\n",
    "plt.xlabel('GDP per capita') # label of x axis\n",
    "plt.ylabel('Score') # label of y axis\n",
    "\n",
    "# show the plot\n",
    "plt.show()"
   ]
  },
  {
   "cell_type": "markdown",
   "metadata": {},
   "source": [
    "A certain tendency towards linearity can be seen. According to the previous study, Score and GDP per capita have an R coefficient of 0.79, quite strong\n",
    "\n",
    "Let's calculate the model with a linear model, to see its results."
   ]
  },
  {
   "cell_type": "code",
   "execution_count": 56,
   "metadata": {},
   "outputs": [
    {
     "name": "stdout",
     "output_type": "stream",
     "text": [
      "Correlation coefficient 0.8 and p-value 0.0\n"
     ]
    }
   ],
   "source": [
    "# packages\n",
    "import numpy as np\n",
    "\n",
    "# data\n",
    "y = df2_clean['Score'] # possible dependent variable\n",
    "x = df2_clean['GDP per capita'] # possible independent variable\n",
    "\n",
    "# Pearson correlation coefficient and p-value\n",
    "pearCoor, pvalue = stats.pearsonr(x, y)\n",
    "print(\"Correlation coefficient {} and p-value {}\".format(round(pearCoor, 2), round(pvalue, 5)))"
   ]
  },
  {
   "cell_type": "markdown",
   "metadata": {},
   "source": [
    "We see that it has a p-value below 0.05, which means that the result is significant."
   ]
  },
  {
   "cell_type": "markdown",
   "metadata": {},
   "source": [
    "Now, we are going to make a linear model and show the results in a plot."
   ]
  },
  {
   "cell_type": "code",
   "execution_count": 57,
   "metadata": {},
   "outputs": [
    {
     "name": "stdout",
     "output_type": "stream",
     "text": [
      "Regression line: y=3346.88+2.27x, r=0.80\n"
     ]
    },
    {
     "data": {
      "image/png": "[encoded data removed]",
      "text/plain": [
       "<Figure size 800x560 with 1 Axes>"
      ]
     },
     "metadata": {
      "needs_background": "light"
     },
     "output_type": "display_data"
    }
   ],
   "source": [
    "# I create the model with the above data\n",
    "slope, intercept, r, p, stderr = stats.linregress(x, y)\n",
    "\n",
    "# show the results\n",
    "line = f'Regression line: y={intercept:.2f}+{slope:.2f}x, r={r:.2f}'\n",
    "print(line)\n",
    "\n",
    "# plot\n",
    "plt.figure(figsize= (10, 7), dpi= 80) # size plot\n",
    "plt.scatter(x, y, alpha=0.5, label = 'data points') # assignment of the variables to the axes\n",
    "plt.plot(x, intercept + slope * x, label = line, color = 'red')\n",
    "\n",
    "# axes legend and tittle\n",
    "plt.title('Lineal model for GDP per capita and Score')\n",
    "plt.xlabel('GDP per capita')\n",
    "plt.ylabel('Score')\n",
    "plt.legend(facecolor='white')\n",
    "plt.show()"
   ]
  },
  {
   "cell_type": "markdown",
   "metadata": {},
   "source": [
    "We can interpret that for every $1 that the GDP per capita increases, we increase the Happiness Score by 2.27 points."
   ]
  },
  {
   "cell_type": "markdown",
   "metadata": {},
   "source": [
    "## Lineal model that explains happiness through Healthy life expectancy"
   ]
  },
  {
   "cell_type": "markdown",
   "metadata": {},
   "source": [
    "Now we will perform the same study to observe the results in Healthy life expectancy."
   ]
  },
  {
   "cell_type": "code",
   "execution_count": 58,
   "metadata": {},
   "outputs": [
    {
     "name": "stdout",
     "output_type": "stream",
     "text": [
      "Country or region          False\n",
      "Score                      False\n",
      "Healthy life expectancy    False\n",
      "dtype: bool\n"
     ]
    },
    {
     "data": {
      "text/html": [
       "<div>\n",
       "<style scoped>\n",
       "    .dataframe tbody tr th:only-of-type {\n",
       "        vertical-align: middle;\n",
       "    }\n",
       "\n",
       "    .dataframe tbody tr th {\n",
       "        vertical-align: top;\n",
       "    }\n",
       "\n",
       "    .dataframe thead th {\n",
       "        text-align: right;\n",
       "    }\n",
       "</style>\n",
       "<table border=\"1\" class=\"dataframe\">\n",
       "  <thead>\n",
       "    <tr style=\"text-align: right;\">\n",
       "      <th></th>\n",
       "      <th>Score</th>\n",
       "      <th>Healthy life expectancy</th>\n",
       "    </tr>\n",
       "  </thead>\n",
       "  <tbody>\n",
       "    <tr>\n",
       "      <th>count</th>\n",
       "      <td>156.000000</td>\n",
       "      <td>156.000000</td>\n",
       "    </tr>\n",
       "    <tr>\n",
       "      <th>mean</th>\n",
       "      <td>5407.096154</td>\n",
       "      <td>725.243590</td>\n",
       "    </tr>\n",
       "    <tr>\n",
       "      <th>std</th>\n",
       "      <td>1113.119869</td>\n",
       "      <td>242.123998</td>\n",
       "    </tr>\n",
       "    <tr>\n",
       "      <th>min</th>\n",
       "      <td>2853.000000</td>\n",
       "      <td>0.000000</td>\n",
       "    </tr>\n",
       "    <tr>\n",
       "      <th>25%</th>\n",
       "      <td>4544.500000</td>\n",
       "      <td>547.750000</td>\n",
       "    </tr>\n",
       "    <tr>\n",
       "      <th>50%</th>\n",
       "      <td>5379.500000</td>\n",
       "      <td>789.000000</td>\n",
       "    </tr>\n",
       "    <tr>\n",
       "      <th>75%</th>\n",
       "      <td>6184.500000</td>\n",
       "      <td>881.750000</td>\n",
       "    </tr>\n",
       "    <tr>\n",
       "      <th>max</th>\n",
       "      <td>7769.000000</td>\n",
       "      <td>1141.000000</td>\n",
       "    </tr>\n",
       "  </tbody>\n",
       "</table>\n",
       "</div>"
      ],
      "text/plain": [
       "             Score  Healthy life expectancy\n",
       "count   156.000000               156.000000\n",
       "mean   5407.096154               725.243590\n",
       "std    1113.119869               242.123998\n",
       "min    2853.000000                 0.000000\n",
       "25%    4544.500000               547.750000\n",
       "50%    5379.500000               789.000000\n",
       "75%    6184.500000               881.750000\n",
       "max    7769.000000              1141.000000"
      ]
     },
     "execution_count": 58,
     "metadata": {},
     "output_type": "execute_result"
    }
   ],
   "source": [
    "# First, we have to select the data we want.\n",
    "df3 = data[['Country or region', 'Score', 'Healthy life expectancy']]\n",
    "\n",
    "# now we must see if there are missing data \n",
    "print(df3.isna().any())\n",
    "\n",
    "# and a little summary of data\n",
    "df3[['Score', 'Healthy life expectancy']].describe()"
   ]
  },
  {
   "cell_type": "markdown",
   "metadata": {},
   "source": [
    "It can be seen that there is a minimum in Healthy life expectancy of 0 years, which is not possible. Let's see what this is about and eliminate this data that will falsify our linear model."
   ]
  },
  {
   "cell_type": "code",
   "execution_count": 59,
   "metadata": {},
   "outputs": [
    {
     "data": {
      "text/html": [
       "<div>\n",
       "<style scoped>\n",
       "    .dataframe tbody tr th:only-of-type {\n",
       "        vertical-align: middle;\n",
       "    }\n",
       "\n",
       "    .dataframe tbody tr th {\n",
       "        vertical-align: top;\n",
       "    }\n",
       "\n",
       "    .dataframe thead th {\n",
       "        text-align: right;\n",
       "    }\n",
       "</style>\n",
       "<table border=\"1\" class=\"dataframe\">\n",
       "  <thead>\n",
       "    <tr style=\"text-align: right;\">\n",
       "      <th></th>\n",
       "      <th>Country or region</th>\n",
       "      <th>Score</th>\n",
       "      <th>Healthy life expectancy</th>\n",
       "    </tr>\n",
       "  </thead>\n",
       "  <tbody>\n",
       "    <tr>\n",
       "      <th>134</th>\n",
       "      <td>Swaziland</td>\n",
       "      <td>4212</td>\n",
       "      <td>0</td>\n",
       "    </tr>\n",
       "  </tbody>\n",
       "</table>\n",
       "</div>"
      ],
      "text/plain": [
       "    Country or region  Score  Healthy life expectancy\n",
       "134         Swaziland   4212                        0"
      ]
     },
     "execution_count": 59,
     "metadata": {},
     "output_type": "execute_result"
    }
   ],
   "source": [
    "# Let's see the countries with a value of 0 in GDP per capita\n",
    "df3[df3['Healthy life expectancy'] == 0]"
   ]
  },
  {
   "cell_type": "markdown",
   "metadata": {},
   "source": [
    "Swaziland is a rather poor country in south-central Africa. However, it is very doubtful that it has 0 as a life expectancy. We will eliminate this data to carry out the study."
   ]
  },
  {
   "cell_type": "code",
   "execution_count": 60,
   "metadata": {},
   "outputs": [
    {
     "name": "stdout",
     "output_type": "stream",
     "text": [
      "Regression line: y=2710.28+3.71x, r=0.79\n"
     ]
    },
    {
     "data": {
      "image/png": "[encoded data removed]",
      "text/plain": [
       "<Figure size 800x560 with 1 Axes>"
      ]
     },
     "metadata": {
      "needs_background": "light"
     },
     "output_type": "display_data"
    }
   ],
   "source": [
    "# drop Swaziland\n",
    "df3_clean = df3.drop([134]).copy()\n",
    "\n",
    "# data\n",
    "y = df3_clean['Score'] # possible dependent variable\n",
    "x = df3_clean['Healthy life expectancy'] # possible independent variable\n",
    "\n",
    "# I create the model with the above data\n",
    "slope, intercept, r, p, stderr = stats.linregress(x, y)\n",
    "\n",
    "# show the results\n",
    "line = f'Regression line: y={intercept:.2f}+{slope:.2f}x, r={r:.2f}'\n",
    "print(line)\n",
    "\n",
    "# plot\n",
    "plt.figure(figsize= (10, 7), dpi= 80) # size plot\n",
    "plt.scatter(x, y, alpha=0.5, label = 'data points') # assignment of the variables to the axes\n",
    "plt.plot(x, intercept + slope * x, label = line, color = 'red')\n",
    "\n",
    "# axes legend and tittle\n",
    "plt.title('Lineal model for Healthy life expectancy and Score')\n",
    "plt.xlabel('Healthy life expectancy')\n",
    "plt.ylabel('Score')\n",
    "plt.legend(facecolor='white')\n",
    "plt.show()"
   ]
  },
  {
   "cell_type": "markdown",
   "metadata": {},
   "source": [
    "For every year that life expectancy increases, the Happiness Score increases by 3.71 points."
   ]
  },
  {
   "cell_type": "markdown",
   "metadata": {},
   "source": [
    "## Lineal model that explains happiness through Social support."
   ]
  },
  {
   "cell_type": "markdown",
   "metadata": {},
   "source": [
    "Now we will perform the same study to observe the results in Healthy life expectancy Social support."
   ]
  },
  {
   "cell_type": "code",
   "execution_count": 61,
   "metadata": {},
   "outputs": [
    {
     "name": "stdout",
     "output_type": "stream",
     "text": [
      "Country or region    False\n",
      "Score                False\n",
      "Social support       False\n",
      "dtype: bool\n"
     ]
    },
    {
     "data": {
      "text/html": [
       "<div>\n",
       "<style scoped>\n",
       "    .dataframe tbody tr th:only-of-type {\n",
       "        vertical-align: middle;\n",
       "    }\n",
       "\n",
       "    .dataframe tbody tr th {\n",
       "        vertical-align: top;\n",
       "    }\n",
       "\n",
       "    .dataframe thead th {\n",
       "        text-align: right;\n",
       "    }\n",
       "</style>\n",
       "<table border=\"1\" class=\"dataframe\">\n",
       "  <thead>\n",
       "    <tr style=\"text-align: right;\">\n",
       "      <th></th>\n",
       "      <th>Score</th>\n",
       "      <th>Social support</th>\n",
       "    </tr>\n",
       "  </thead>\n",
       "  <tbody>\n",
       "    <tr>\n",
       "      <th>count</th>\n",
       "      <td>156.000000</td>\n",
       "      <td>156.000000</td>\n",
       "    </tr>\n",
       "    <tr>\n",
       "      <th>mean</th>\n",
       "      <td>5407.096154</td>\n",
       "      <td>1208.814103</td>\n",
       "    </tr>\n",
       "    <tr>\n",
       "      <th>std</th>\n",
       "      <td>1113.119869</td>\n",
       "      <td>299.191401</td>\n",
       "    </tr>\n",
       "    <tr>\n",
       "      <th>min</th>\n",
       "      <td>2853.000000</td>\n",
       "      <td>0.000000</td>\n",
       "    </tr>\n",
       "    <tr>\n",
       "      <th>25%</th>\n",
       "      <td>4544.500000</td>\n",
       "      <td>1055.750000</td>\n",
       "    </tr>\n",
       "    <tr>\n",
       "      <th>50%</th>\n",
       "      <td>5379.500000</td>\n",
       "      <td>1271.500000</td>\n",
       "    </tr>\n",
       "    <tr>\n",
       "      <th>75%</th>\n",
       "      <td>6184.500000</td>\n",
       "      <td>1452.500000</td>\n",
       "    </tr>\n",
       "    <tr>\n",
       "      <th>max</th>\n",
       "      <td>7769.000000</td>\n",
       "      <td>1624.000000</td>\n",
       "    </tr>\n",
       "  </tbody>\n",
       "</table>\n",
       "</div>"
      ],
      "text/plain": [
       "             Score  Social support\n",
       "count   156.000000      156.000000\n",
       "mean   5407.096154     1208.814103\n",
       "std    1113.119869      299.191401\n",
       "min    2853.000000        0.000000\n",
       "25%    4544.500000     1055.750000\n",
       "50%    5379.500000     1271.500000\n",
       "75%    6184.500000     1452.500000\n",
       "max    7769.000000     1624.000000"
      ]
     },
     "execution_count": 61,
     "metadata": {},
     "output_type": "execute_result"
    }
   ],
   "source": [
    "# First, we have to select the data we want.\n",
    "df4 = data[['Country or region', 'Score', 'Social support']]\n",
    "\n",
    "# now we must see if there are missing data \n",
    "print(df4.isna().any())\n",
    "\n",
    "# and a little summary of data\n",
    "df4[['Score', 'Social support']].describe()"
   ]
  },
  {
   "cell_type": "markdown",
   "metadata": {},
   "source": [
    "We see again that there is some data in Social support that is zero and that is probably a lack of data. Let's see what this is about and we'll skip that data."
   ]
  },
  {
   "cell_type": "code",
   "execution_count": 62,
   "metadata": {},
   "outputs": [
    {
     "data": {
      "text/html": [
       "<div>\n",
       "<style scoped>\n",
       "    .dataframe tbody tr th:only-of-type {\n",
       "        vertical-align: middle;\n",
       "    }\n",
       "\n",
       "    .dataframe tbody tr th {\n",
       "        vertical-align: top;\n",
       "    }\n",
       "\n",
       "    .dataframe thead th {\n",
       "        text-align: right;\n",
       "    }\n",
       "</style>\n",
       "<table border=\"1\" class=\"dataframe\">\n",
       "  <thead>\n",
       "    <tr style=\"text-align: right;\">\n",
       "      <th></th>\n",
       "      <th>Country or region</th>\n",
       "      <th>Score</th>\n",
       "      <th>Social support</th>\n",
       "    </tr>\n",
       "  </thead>\n",
       "  <tbody>\n",
       "    <tr>\n",
       "      <th>154</th>\n",
       "      <td>Central African Republic</td>\n",
       "      <td>3083</td>\n",
       "      <td>0</td>\n",
       "    </tr>\n",
       "  </tbody>\n",
       "</table>\n",
       "</div>"
      ],
      "text/plain": [
       "            Country or region  Score  Social support\n",
       "154  Central African Republic   3083               0"
      ]
     },
     "execution_count": 62,
     "metadata": {},
     "output_type": "execute_result"
    }
   ],
   "source": [
    "# Let's see the countries with a value of 0 in GDP per capita\n",
    "df4[df4['Social support'] == 0]"
   ]
  },
  {
   "cell_type": "code",
   "execution_count": 63,
   "metadata": {},
   "outputs": [
    {
     "name": "stdout",
     "output_type": "stream",
     "text": [
      "Regression line: y=1765.20+3.01x, r=0.77\n"
     ]
    },
    {
     "data": {
      "image/png": "[encoded data removed]",
      "text/plain": [
       "<Figure size 800x560 with 1 Axes>"
      ]
     },
     "metadata": {
      "needs_background": "light"
     },
     "output_type": "display_data"
    }
   ],
   "source": [
    "# drop Swaziland\n",
    "df4_clean = df4.drop(154).copy()\n",
    "\n",
    "# data\n",
    "y = df4_clean['Score'] # possible dependent variable\n",
    "x = df4_clean['Social support'] # possible independent variable\n",
    "\n",
    "# I create the model with the above data\n",
    "slope, intercept, r, p, stderr = stats.linregress(x, y)\n",
    "\n",
    "# show the results\n",
    "line = f'Regression line: y={intercept:.2f}+{slope:.2f}x, r={r:.2f}'\n",
    "print(line)\n",
    "\n",
    "# plot\n",
    "plt.figure(figsize= (10, 7), dpi= 80) # size plot\n",
    "plt.scatter(x, y, alpha=0.5, label = 'data points') # assignment of the variables to the axes\n",
    "plt.plot(x, intercept + slope * x, label = line, color = 'red')\n",
    "\n",
    "# axes legend and tittle\n",
    "plt.title('Lineal model for Social support')\n",
    "plt.xlabel('Social support')\n",
    "plt.ylabel('Score')\n",
    "plt.legend(facecolor='white')\n",
    "plt.show()"
   ]
  },
  {
   "cell_type": "markdown",
   "metadata": {},
   "source": [
    "We see that for each point in social support, we raise 3.01 points in the happiness score and that this model explains the data to 77%.\n",
    "\n",
    "However, all these models take into account only one variable and happiness does not depend on only one variable. We must make a linear multivariate model to see the results."
   ]
  },
  {
   "cell_type": "markdown",
   "metadata": {},
   "source": [
    "# Linear multivariate model"
   ]
  },
  {
   "cell_type": "code",
   "execution_count": 86,
   "metadata": {},
   "outputs": [
    {
     "data": {
      "text/html": [
       "<div>\n",
       "<style scoped>\n",
       "    .dataframe tbody tr th:only-of-type {\n",
       "        vertical-align: middle;\n",
       "    }\n",
       "\n",
       "    .dataframe tbody tr th {\n",
       "        vertical-align: top;\n",
       "    }\n",
       "\n",
       "    .dataframe thead th {\n",
       "        text-align: right;\n",
       "    }\n",
       "</style>\n",
       "<table border=\"1\" class=\"dataframe\">\n",
       "  <thead>\n",
       "    <tr style=\"text-align: right;\">\n",
       "      <th></th>\n",
       "      <th>Country or region</th>\n",
       "      <th>Score</th>\n",
       "      <th>GDP per capita</th>\n",
       "      <th>Healthy life expectancy</th>\n",
       "      <th>Social support</th>\n",
       "    </tr>\n",
       "  </thead>\n",
       "  <tbody>\n",
       "    <tr>\n",
       "      <th>0</th>\n",
       "      <td>Finland</td>\n",
       "      <td>7769</td>\n",
       "      <td>1340</td>\n",
       "      <td>986</td>\n",
       "      <td>1587</td>\n",
       "    </tr>\n",
       "    <tr>\n",
       "      <th>1</th>\n",
       "      <td>Denmark</td>\n",
       "      <td>7600</td>\n",
       "      <td>1383</td>\n",
       "      <td>996</td>\n",
       "      <td>1573</td>\n",
       "    </tr>\n",
       "    <tr>\n",
       "      <th>2</th>\n",
       "      <td>Norway</td>\n",
       "      <td>7554</td>\n",
       "      <td>1488</td>\n",
       "      <td>1028</td>\n",
       "      <td>1582</td>\n",
       "    </tr>\n",
       "    <tr>\n",
       "      <th>3</th>\n",
       "      <td>Iceland</td>\n",
       "      <td>7494</td>\n",
       "      <td>1380</td>\n",
       "      <td>1026</td>\n",
       "      <td>1624</td>\n",
       "    </tr>\n",
       "    <tr>\n",
       "      <th>4</th>\n",
       "      <td>Netherlands</td>\n",
       "      <td>7488</td>\n",
       "      <td>1396</td>\n",
       "      <td>999</td>\n",
       "      <td>1522</td>\n",
       "    </tr>\n",
       "    <tr>\n",
       "      <th>...</th>\n",
       "      <td>...</td>\n",
       "      <td>...</td>\n",
       "      <td>...</td>\n",
       "      <td>...</td>\n",
       "      <td>...</td>\n",
       "    </tr>\n",
       "    <tr>\n",
       "      <th>150</th>\n",
       "      <td>Yemen</td>\n",
       "      <td>3380</td>\n",
       "      <td>287</td>\n",
       "      <td>463</td>\n",
       "      <td>1163</td>\n",
       "    </tr>\n",
       "    <tr>\n",
       "      <th>151</th>\n",
       "      <td>Rwanda</td>\n",
       "      <td>3334</td>\n",
       "      <td>359</td>\n",
       "      <td>614</td>\n",
       "      <td>711</td>\n",
       "    </tr>\n",
       "    <tr>\n",
       "      <th>152</th>\n",
       "      <td>Tanzania</td>\n",
       "      <td>3231</td>\n",
       "      <td>476</td>\n",
       "      <td>499</td>\n",
       "      <td>885</td>\n",
       "    </tr>\n",
       "    <tr>\n",
       "      <th>153</th>\n",
       "      <td>Afghanistan</td>\n",
       "      <td>3203</td>\n",
       "      <td>350</td>\n",
       "      <td>361</td>\n",
       "      <td>517</td>\n",
       "    </tr>\n",
       "    <tr>\n",
       "      <th>155</th>\n",
       "      <td>South Sudan</td>\n",
       "      <td>2853</td>\n",
       "      <td>306</td>\n",
       "      <td>295</td>\n",
       "      <td>575</td>\n",
       "    </tr>\n",
       "  </tbody>\n",
       "</table>\n",
       "<p>153 rows × 5 columns</p>\n",
       "</div>"
      ],
      "text/plain": [
       "    Country or region  Score  GDP per capita  Healthy life expectancy  \\\n",
       "0             Finland   7769            1340                      986   \n",
       "1             Denmark   7600            1383                      996   \n",
       "2              Norway   7554            1488                     1028   \n",
       "3             Iceland   7494            1380                     1026   \n",
       "4         Netherlands   7488            1396                      999   \n",
       "..                ...    ...             ...                      ...   \n",
       "150             Yemen   3380             287                      463   \n",
       "151            Rwanda   3334             359                      614   \n",
       "152          Tanzania   3231             476                      499   \n",
       "153       Afghanistan   3203             350                      361   \n",
       "155       South Sudan   2853             306                      295   \n",
       "\n",
       "     Social support  \n",
       "0              1587  \n",
       "1              1573  \n",
       "2              1582  \n",
       "3              1624  \n",
       "4              1522  \n",
       "..              ...  \n",
       "150            1163  \n",
       "151             711  \n",
       "152             885  \n",
       "153             517  \n",
       "155             575  \n",
       "\n",
       "[153 rows x 5 columns]"
      ]
     },
     "execution_count": 86,
     "metadata": {},
     "output_type": "execute_result"
    }
   ],
   "source": [
    "# select de data\n",
    "df5 = data[['Country or region', 'Score', 'GDP per capita', 'Healthy life expectancy', 'Social support']]\n",
    "\n",
    "df5_clean = df5.drop([111, 154, 134]) # drop cero datas\n",
    "df5_clean"
   ]
  },
  {
   "cell_type": "code",
   "execution_count": 95,
   "metadata": {},
   "outputs": [
    {
     "name": "stdout",
     "output_type": "stream",
     "text": [
      "Model Coefficients: \n",
      " GDP per capita = 0.8292433951712572 \n",
      " Healthy life expectancy = 1.2975174177308704 \n",
      " Social support = 1.4354879478121325\n",
      "Base value (intercept in y) = 1965.922068391541\n",
      "\n",
      " R2 score = 0.73\n"
     ]
    }
   ],
   "source": [
    "# package required\n",
    "from sklearn import linear_model\n",
    "\n",
    "# data select for do model\n",
    "x = df5_clean[['GDP per capita', 'Healthy life expectancy', 'Social support']] # independent veriable\n",
    "y = df5_clean['Score'] # independent variable\n",
    "\n",
    "# model definition\n",
    "lm = linear_model.LinearRegression()\n",
    "model = lm.fit(x, y)\n",
    "\n",
    "# describe model \n",
    "Rscore = lm.score(x, y) # R² score\n",
    "gdp, healthly, social = lm.coef_  # coefficients\n",
    "base = lm.intercept_ # intercept\n",
    "\n",
    "print(\"Model Coefficients:\", \"\\n\", \"GDP per capita = {} \\n Healthy life expectancy = {} \\n Social support = {}\".format(gdp, healthly, social))\n",
    "print(\"Base value (intercept in y) = {}\".format(base))\n",
    "print(\"\\n\", \"R2 score = {}\".format(round(Rscore, 2)) )"
   ]
  },
  {
   "cell_type": "markdown",
   "metadata": {},
   "source": [
    "We can observe that the model explains the data in 73%, slightly lower than the single-variable models, but that it totally changes the proportion in which each variable affects the happiness score. \n",
    "\n",
    "Thus, we could conclude that happiness is given by a series of variables, among which Social support has a greater contribution to the explanation of the data, along with Healthy life expectancy, leaving GDP per capita as the third largest contributor. \n",
    "\n",
    "However, it should be borne in mind that this is an observational study. This means that there is no experimentation possible to see if these variables have a cause-effect effect on the happiness score, and that there may be hundreds of variables that are not included in the data. \n",
    "\n",
    "This will be one of the next topics to be discussed."
   ]
  },
  {
   "cell_type": "code",
   "execution_count": null,
   "metadata": {},
   "outputs": [],
   "source": []
  }
 ],
 "metadata": {
  "kernelspec": {
   "display_name": "Python 3",
   "language": "python",
   "name": "python3"
  },
  "language_info": {
   "codemirror_mode": {
    "name": "ipython",
    "version": 3
   },
   "file_extension": ".py",
   "mimetype": "text/x-python",
   "name": "python",
   "nbconvert_exporter": "python",
   "pygments_lexer": "ipython3",
   "version": "3.7.6"
  }
 },
 "nbformat": 4,
 "nbformat_minor": 4
}
