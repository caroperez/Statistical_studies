{
 "cells": [
  {
   "cell_type": "markdown",
   "metadata": {},
   "source": [
    "# Happiness in the world in 2019"
   ]
  },
  {
   "cell_type": "markdown",
   "metadata": {},
   "source": [
    "We all know that 2020 is being a very hard year, both in terms of health, and social and economic, but... Which of these parameters can have the greatest impact on people's happiness? Is it the same in all parts of the world or is it culturally independent?\n",
    "\n",
    "For this, we will carry out an analysis of the happiness data in 2019 just with other important aspects to carry out the study.\n",
    "\n",
    "The happiness scores and rankings use data from the Gallup World Poll. The scores are based on answers to the main life evaluation question asked in the poll. This question, known as the Cantril ladder, asks respondents to think of a ladder with the best possible life for them being a 10 and the worst possible life being a 0 and to rate their own current lives on that scale. The scores are from nationally representative samples for the years 2013-2016 and use the Gallup weights to make the estimates representative."
   ]
  },
  {
   "cell_type": "code",
   "execution_count": 1,
   "metadata": {},
   "outputs": [
    {
     "data": {
      "text/html": [
       "<div>\n",
       "<style scoped>\n",
       "    .dataframe tbody tr th:only-of-type {\n",
       "        vertical-align: middle;\n",
       "    }\n",
       "\n",
       "    .dataframe tbody tr th {\n",
       "        vertical-align: top;\n",
       "    }\n",
       "\n",
       "    .dataframe thead th {\n",
       "        text-align: right;\n",
       "    }\n",
       "</style>\n",
       "<table border=\"1\" class=\"dataframe\">\n",
       "  <thead>\n",
       "    <tr style=\"text-align: right;\">\n",
       "      <th></th>\n",
       "      <th>Overall rank</th>\n",
       "      <th>Country or region</th>\n",
       "      <th>Score</th>\n",
       "      <th>GDP per capita</th>\n",
       "      <th>Social support</th>\n",
       "      <th>Healthy life expectancy</th>\n",
       "      <th>Freedom to make life choices</th>\n",
       "      <th>Generosity</th>\n",
       "      <th>Perceptions of corruption</th>\n",
       "    </tr>\n",
       "  </thead>\n",
       "  <tbody>\n",
       "    <tr>\n",
       "      <th>0</th>\n",
       "      <td>1</td>\n",
       "      <td>Finland</td>\n",
       "      <td>7769</td>\n",
       "      <td>1340</td>\n",
       "      <td>1587</td>\n",
       "      <td>986</td>\n",
       "      <td>596</td>\n",
       "      <td>153</td>\n",
       "      <td>393</td>\n",
       "    </tr>\n",
       "    <tr>\n",
       "      <th>1</th>\n",
       "      <td>2</td>\n",
       "      <td>Denmark</td>\n",
       "      <td>7600</td>\n",
       "      <td>1383</td>\n",
       "      <td>1573</td>\n",
       "      <td>996</td>\n",
       "      <td>592</td>\n",
       "      <td>252</td>\n",
       "      <td>410</td>\n",
       "    </tr>\n",
       "    <tr>\n",
       "      <th>2</th>\n",
       "      <td>3</td>\n",
       "      <td>Norway</td>\n",
       "      <td>7554</td>\n",
       "      <td>1488</td>\n",
       "      <td>1582</td>\n",
       "      <td>1028</td>\n",
       "      <td>603</td>\n",
       "      <td>271</td>\n",
       "      <td>341</td>\n",
       "    </tr>\n",
       "    <tr>\n",
       "      <th>3</th>\n",
       "      <td>4</td>\n",
       "      <td>Iceland</td>\n",
       "      <td>7494</td>\n",
       "      <td>1380</td>\n",
       "      <td>1624</td>\n",
       "      <td>1026</td>\n",
       "      <td>591</td>\n",
       "      <td>354</td>\n",
       "      <td>118</td>\n",
       "    </tr>\n",
       "    <tr>\n",
       "      <th>4</th>\n",
       "      <td>5</td>\n",
       "      <td>Netherlands</td>\n",
       "      <td>7488</td>\n",
       "      <td>1396</td>\n",
       "      <td>1522</td>\n",
       "      <td>999</td>\n",
       "      <td>557</td>\n",
       "      <td>322</td>\n",
       "      <td>298</td>\n",
       "    </tr>\n",
       "  </tbody>\n",
       "</table>\n",
       "</div>"
      ],
      "text/plain": [
       "   Overall rank Country or region  Score  GDP per capita  Social support  \\\n",
       "0             1           Finland   7769            1340            1587   \n",
       "1             2           Denmark   7600            1383            1573   \n",
       "2             3            Norway   7554            1488            1582   \n",
       "3             4           Iceland   7494            1380            1624   \n",
       "4             5       Netherlands   7488            1396            1522   \n",
       "\n",
       "   Healthy life expectancy  Freedom to make life choices  Generosity  \\\n",
       "0                      986                           596         153   \n",
       "1                      996                           592         252   \n",
       "2                     1028                           603         271   \n",
       "3                     1026                           591         354   \n",
       "4                      999                           557         322   \n",
       "\n",
       "   Perceptions of corruption  \n",
       "0                        393  \n",
       "1                        410  \n",
       "2                        341  \n",
       "3                        118  \n",
       "4                        298  "
      ]
     },
     "execution_count": 1,
     "metadata": {},
     "output_type": "execute_result"
    }
   ],
   "source": [
    "# packages\n",
    "import pandas as pd \n",
    "\n",
    "# Read datafile cvs with pandas\n",
    "data = pd.read_csv('happy_2019.csv') \n",
    "\n",
    "# first 5 lines of the loaded data \n",
    "data.head()"
   ]
  },
  {
   "cell_type": "code",
   "execution_count": 2,
   "metadata": {},
   "outputs": [
    {
     "name": "stdout",
     "output_type": "stream",
     "text": [
      "Index(['Overall rank', 'Country or region', 'Score', 'GDP per capita',\n",
      "       'Social support', 'Healthy life expectancy',\n",
      "       'Freedom to make life choices', 'Generosity',\n",
      "       'Perceptions of corruption'],\n",
      "      dtype='object') \n",
      "\n",
      "Overall rank                     int64\n",
      "Country or region               object\n",
      "Score                            int64\n",
      "GDP per capita                   int64\n",
      "Social support                   int64\n",
      "Healthy life expectancy          int64\n",
      "Freedom to make life choices     int64\n",
      "Generosity                       int64\n",
      "Perceptions of corruption        int64\n",
      "dtype: object\n"
     ]
    }
   ],
   "source": [
    "# we need to see the columns completely\n",
    "print(data.columns, '\\n') # I use \\n for add space\n",
    "\n",
    "# type of data by variable\n",
    "print(data.dtypes)"
   ]
  },
  {
   "cell_type": "markdown",
   "metadata": {},
   "source": [
    "We can see the names of the columns. The columns provide the values of the variables of 6 factors: economic production, social support, life expectancy, freedom, absence of corruption and generosity. In principle, in a utopia, we should observe maximum values in each of the variables, while in a dystrophy, we would observe minimum values in each of the columns.\n",
    "\n",
    "To make a quick look to see which of the variables can be important, we will make a correlation matrix between numerical variables."
   ]
  },
  {
   "cell_type": "code",
   "execution_count": 3,
   "metadata": {},
   "outputs": [
    {
     "data": {
      "text/html": [
       "<div>\n",
       "<style scoped>\n",
       "    .dataframe tbody tr th:only-of-type {\n",
       "        vertical-align: middle;\n",
       "    }\n",
       "\n",
       "    .dataframe tbody tr th {\n",
       "        vertical-align: top;\n",
       "    }\n",
       "\n",
       "    .dataframe thead th {\n",
       "        text-align: right;\n",
       "    }\n",
       "</style>\n",
       "<table border=\"1\" class=\"dataframe\">\n",
       "  <thead>\n",
       "    <tr style=\"text-align: right;\">\n",
       "      <th></th>\n",
       "      <th>Freedom to make life choices</th>\n",
       "      <th>GDP per capita</th>\n",
       "      <th>Generosity</th>\n",
       "      <th>Healthy life expectancy</th>\n",
       "      <th>Perceptions of corruption</th>\n",
       "      <th>Score</th>\n",
       "      <th>Social support</th>\n",
       "    </tr>\n",
       "  </thead>\n",
       "  <tbody>\n",
       "    <tr>\n",
       "      <th>Freedom to make life choices</th>\n",
       "      <td>1.000000</td>\n",
       "      <td>0.379079</td>\n",
       "      <td>0.269742</td>\n",
       "      <td>0.390395</td>\n",
       "      <td>0.438843</td>\n",
       "      <td>0.566742</td>\n",
       "      <td>0.447333</td>\n",
       "    </tr>\n",
       "    <tr>\n",
       "      <th>GDP per capita</th>\n",
       "      <td>0.379079</td>\n",
       "      <td>1.000000</td>\n",
       "      <td>-0.079662</td>\n",
       "      <td>0.835462</td>\n",
       "      <td>0.298920</td>\n",
       "      <td>0.793883</td>\n",
       "      <td>0.754906</td>\n",
       "    </tr>\n",
       "    <tr>\n",
       "      <th>Generosity</th>\n",
       "      <td>0.269742</td>\n",
       "      <td>-0.079662</td>\n",
       "      <td>1.000000</td>\n",
       "      <td>-0.029511</td>\n",
       "      <td>0.326538</td>\n",
       "      <td>0.075824</td>\n",
       "      <td>-0.048126</td>\n",
       "    </tr>\n",
       "    <tr>\n",
       "      <th>Healthy life expectancy</th>\n",
       "      <td>0.390395</td>\n",
       "      <td>0.835462</td>\n",
       "      <td>-0.029511</td>\n",
       "      <td>1.000000</td>\n",
       "      <td>0.295283</td>\n",
       "      <td>0.779883</td>\n",
       "      <td>0.719009</td>\n",
       "    </tr>\n",
       "    <tr>\n",
       "      <th>Perceptions of corruption</th>\n",
       "      <td>0.438843</td>\n",
       "      <td>0.298920</td>\n",
       "      <td>0.326538</td>\n",
       "      <td>0.295283</td>\n",
       "      <td>1.000000</td>\n",
       "      <td>0.385613</td>\n",
       "      <td>0.181899</td>\n",
       "    </tr>\n",
       "    <tr>\n",
       "      <th>Score</th>\n",
       "      <td>0.566742</td>\n",
       "      <td>0.793883</td>\n",
       "      <td>0.075824</td>\n",
       "      <td>0.779883</td>\n",
       "      <td>0.385613</td>\n",
       "      <td>1.000000</td>\n",
       "      <td>0.777058</td>\n",
       "    </tr>\n",
       "    <tr>\n",
       "      <th>Social support</th>\n",
       "      <td>0.447333</td>\n",
       "      <td>0.754906</td>\n",
       "      <td>-0.048126</td>\n",
       "      <td>0.719009</td>\n",
       "      <td>0.181899</td>\n",
       "      <td>0.777058</td>\n",
       "      <td>1.000000</td>\n",
       "    </tr>\n",
       "  </tbody>\n",
       "</table>\n",
       "</div>"
      ],
      "text/plain": [
       "                              Freedom to make life choices  GDP per capita  \\\n",
       "Freedom to make life choices                      1.000000        0.379079   \n",
       "GDP per capita                                    0.379079        1.000000   \n",
       "Generosity                                        0.269742       -0.079662   \n",
       "Healthy life expectancy                           0.390395        0.835462   \n",
       "Perceptions of corruption                         0.438843        0.298920   \n",
       "Score                                             0.566742        0.793883   \n",
       "Social support                                    0.447333        0.754906   \n",
       "\n",
       "                              Generosity  Healthy life expectancy  \\\n",
       "Freedom to make life choices    0.269742                 0.390395   \n",
       "GDP per capita                 -0.079662                 0.835462   \n",
       "Generosity                      1.000000                -0.029511   \n",
       "Healthy life expectancy        -0.029511                 1.000000   \n",
       "Perceptions of corruption       0.326538                 0.295283   \n",
       "Score                           0.075824                 0.779883   \n",
       "Social support                 -0.048126                 0.719009   \n",
       "\n",
       "                              Perceptions of corruption     Score  \\\n",
       "Freedom to make life choices                   0.438843  0.566742   \n",
       "GDP per capita                                 0.298920  0.793883   \n",
       "Generosity                                     0.326538  0.075824   \n",
       "Healthy life expectancy                        0.295283  0.779883   \n",
       "Perceptions of corruption                      1.000000  0.385613   \n",
       "Score                                          0.385613  1.000000   \n",
       "Social support                                 0.181899  0.777058   \n",
       "\n",
       "                              Social support  \n",
       "Freedom to make life choices        0.447333  \n",
       "GDP per capita                      0.754906  \n",
       "Generosity                         -0.048126  \n",
       "Healthy life expectancy             0.719009  \n",
       "Perceptions of corruption           0.181899  \n",
       "Score                               0.777058  \n",
       "Social support                      1.000000  "
      ]
     },
     "execution_count": 3,
     "metadata": {},
     "output_type": "execute_result"
    }
   ],
   "source": [
    "# we exclude 'Overall rank' column\n",
    "df1 = data[data.columns.difference([\"Overall rank\"])]\n",
    "\n",
    "# show table with correlations between variables\n",
    "coor = df1.corr()\n",
    "coor"
   ]
  },
  {
   "cell_type": "code",
   "execution_count": 4,
   "metadata": {},
   "outputs": [
    {
     "data": {
      "text/plain": [
       "<matplotlib.axes._subplots.AxesSubplot at 0x2328d752a08>"
      ]
     },
     "execution_count": 4,
     "metadata": {},
     "output_type": "execute_result"
    },
    {
     "data": {
      "image/png": "[encoded data removed]",
      "text/plain": [
       "<Figure size 432x288 with 2 Axes>"
      ]
     },
     "metadata": {
      "needs_background": "light"
     },
     "output_type": "display_data"
    }
   ],
   "source": [
    "# package for plot\n",
    "import seaborn as sns\n",
    "\n",
    "# plot\n",
    "sns.heatmap(coor, xticklabels = coor.columns.values, yticklabels = coor.columns.values)"
   ]
  },
  {
   "cell_type": "markdown",
   "metadata": {},
   "source": [
    "We can observe in the color scale, the values closer to 1 (perfect correlation), acquire a softer tone. Thus, looking at the variable 'Score' on the graph and looking for the smoothest colors with the variables that are correlated, we find that 'GPD per capita', 'Heathly life expected' and 'Social support', are the variables with the highest correlation with the score in happiness.\n",
    "\n",
    "Now that we have this information, we will try to obtain a model that explains this correlation to try to analyze this case. The study will be conducted first for each of the variables. Then we will make a correlation model for the three variables."
   ]
  },
  {
   "cell_type": "markdown",
   "metadata": {},
   "source": [
    "## Model that explains happiness through GPD per capita"
   ]
  },
  {
   "cell_type": "code",
   "execution_count": 5,
   "metadata": {},
   "outputs": [
    {
     "name": "stdout",
     "output_type": "stream",
     "text": [
      "Country or region    False\n",
      "Score                False\n",
      "GDP per capita       False\n",
      "dtype: bool\n"
     ]
    },
    {
     "data": {
      "text/html": [
       "<div>\n",
       "<style scoped>\n",
       "    .dataframe tbody tr th:only-of-type {\n",
       "        vertical-align: middle;\n",
       "    }\n",
       "\n",
       "    .dataframe tbody tr th {\n",
       "        vertical-align: top;\n",
       "    }\n",
       "\n",
       "    .dataframe thead th {\n",
       "        text-align: right;\n",
       "    }\n",
       "</style>\n",
       "<table border=\"1\" class=\"dataframe\">\n",
       "  <thead>\n",
       "    <tr style=\"text-align: right;\">\n",
       "      <th></th>\n",
       "      <th>Score</th>\n",
       "      <th>GDP per capita</th>\n",
       "    </tr>\n",
       "  </thead>\n",
       "  <tbody>\n",
       "    <tr>\n",
       "      <th>count</th>\n",
       "      <td>156.000000</td>\n",
       "      <td>156.000000</td>\n",
       "    </tr>\n",
       "    <tr>\n",
       "      <th>mean</th>\n",
       "      <td>5407.096154</td>\n",
       "      <td>905.147436</td>\n",
       "    </tr>\n",
       "    <tr>\n",
       "      <th>std</th>\n",
       "      <td>1113.119869</td>\n",
       "      <td>398.389464</td>\n",
       "    </tr>\n",
       "    <tr>\n",
       "      <th>min</th>\n",
       "      <td>2853.000000</td>\n",
       "      <td>0.000000</td>\n",
       "    </tr>\n",
       "    <tr>\n",
       "      <th>25%</th>\n",
       "      <td>4544.500000</td>\n",
       "      <td>602.750000</td>\n",
       "    </tr>\n",
       "    <tr>\n",
       "      <th>50%</th>\n",
       "      <td>5379.500000</td>\n",
       "      <td>960.000000</td>\n",
       "    </tr>\n",
       "    <tr>\n",
       "      <th>75%</th>\n",
       "      <td>6184.500000</td>\n",
       "      <td>1232.500000</td>\n",
       "    </tr>\n",
       "    <tr>\n",
       "      <th>max</th>\n",
       "      <td>7769.000000</td>\n",
       "      <td>1684.000000</td>\n",
       "    </tr>\n",
       "  </tbody>\n",
       "</table>\n",
       "</div>"
      ],
      "text/plain": [
       "             Score  GDP per capita\n",
       "count   156.000000      156.000000\n",
       "mean   5407.096154      905.147436\n",
       "std    1113.119869      398.389464\n",
       "min    2853.000000        0.000000\n",
       "25%    4544.500000      602.750000\n",
       "50%    5379.500000      960.000000\n",
       "75%    6184.500000     1232.500000\n",
       "max    7769.000000     1684.000000"
      ]
     },
     "execution_count": 5,
     "metadata": {},
     "output_type": "execute_result"
    }
   ],
   "source": [
    "# First, we have to select the data we want.\n",
    "df2 = data[['Country or region', 'Score', 'GDP per capita']]\n",
    "\n",
    "# now we must see if there are missing data \n",
    "print(df2.isna().any())\n",
    "\n",
    "# and a little summary of data\n",
    "df2[['Score', 'GDP per capita']].describe()"
   ]
  },
  {
   "cell_type": "markdown",
   "metadata": {},
   "source": [
    "We have not observed NA data, but instead, we have detected null (zero) data in GPD per capita. This could be equivalent to missing data for a particular country and could hurt our model."
   ]
  },
  {
   "cell_type": "code",
   "execution_count": 6,
   "metadata": {},
   "outputs": [
    {
     "data": {
      "text/html": [
       "<div>\n",
       "<style scoped>\n",
       "    .dataframe tbody tr th:only-of-type {\n",
       "        vertical-align: middle;\n",
       "    }\n",
       "\n",
       "    .dataframe tbody tr th {\n",
       "        vertical-align: top;\n",
       "    }\n",
       "\n",
       "    .dataframe thead th {\n",
       "        text-align: right;\n",
       "    }\n",
       "</style>\n",
       "<table border=\"1\" class=\"dataframe\">\n",
       "  <thead>\n",
       "    <tr style=\"text-align: right;\">\n",
       "      <th></th>\n",
       "      <th>Country or region</th>\n",
       "      <th>Score</th>\n",
       "      <th>GDP per capita</th>\n",
       "    </tr>\n",
       "  </thead>\n",
       "  <tbody>\n",
       "    <tr>\n",
       "      <th>111</th>\n",
       "      <td>Somalia</td>\n",
       "      <td>4668</td>\n",
       "      <td>0</td>\n",
       "    </tr>\n",
       "  </tbody>\n",
       "</table>\n",
       "</div>"
      ],
      "text/plain": [
       "    Country or region  Score  GDP per capita\n",
       "111           Somalia   4668               0"
      ]
     },
     "execution_count": 6,
     "metadata": {},
     "output_type": "execute_result"
    }
   ],
   "source": [
    "# Let's see the countries with a value of 0 in GDP per capita\n",
    "df2[df2['GDP per capita'] == 0]"
   ]
  },
  {
   "cell_type": "markdown",
   "metadata": {},
   "source": [
    "We can see that Somalia has a happiness score slightly below the average, 4668 for the average of 5407. However, the standard deviation of happiness is 1113, which makes us think that this is quite correct, as opposed to GDP per capita, which is 0.\n",
    "\n",
    "We will remove Somalia from our data to avoid problems in our correlation model."
   ]
  },
  {
   "cell_type": "code",
   "execution_count": 7,
   "metadata": {},
   "outputs": [
    {
     "data": {
      "text/html": [
       "<div>\n",
       "<style scoped>\n",
       "    .dataframe tbody tr th:only-of-type {\n",
       "        vertical-align: middle;\n",
       "    }\n",
       "\n",
       "    .dataframe tbody tr th {\n",
       "        vertical-align: top;\n",
       "    }\n",
       "\n",
       "    .dataframe thead th {\n",
       "        text-align: right;\n",
       "    }\n",
       "</style>\n",
       "<table border=\"1\" class=\"dataframe\">\n",
       "  <thead>\n",
       "    <tr style=\"text-align: right;\">\n",
       "      <th></th>\n",
       "      <th>Score</th>\n",
       "      <th>GDP per capita</th>\n",
       "    </tr>\n",
       "  </thead>\n",
       "  <tbody>\n",
       "    <tr>\n",
       "      <th>count</th>\n",
       "      <td>155.000000</td>\n",
       "      <td>155.000000</td>\n",
       "    </tr>\n",
       "    <tr>\n",
       "      <th>mean</th>\n",
       "      <td>5411.864516</td>\n",
       "      <td>910.987097</td>\n",
       "    </tr>\n",
       "    <tr>\n",
       "      <th>std</th>\n",
       "      <td>1115.128460</td>\n",
       "      <td>392.925408</td>\n",
       "    </tr>\n",
       "    <tr>\n",
       "      <th>min</th>\n",
       "      <td>2853.000000</td>\n",
       "      <td>26.000000</td>\n",
       "    </tr>\n",
       "    <tr>\n",
       "      <th>25%</th>\n",
       "      <td>4541.000000</td>\n",
       "      <td>615.000000</td>\n",
       "    </tr>\n",
       "    <tr>\n",
       "      <th>50%</th>\n",
       "      <td>5386.000000</td>\n",
       "      <td>960.000000</td>\n",
       "    </tr>\n",
       "    <tr>\n",
       "      <th>75%</th>\n",
       "      <td>6187.000000</td>\n",
       "      <td>1234.000000</td>\n",
       "    </tr>\n",
       "    <tr>\n",
       "      <th>max</th>\n",
       "      <td>7769.000000</td>\n",
       "      <td>1684.000000</td>\n",
       "    </tr>\n",
       "  </tbody>\n",
       "</table>\n",
       "</div>"
      ],
      "text/plain": [
       "             Score  GDP per capita\n",
       "count   155.000000      155.000000\n",
       "mean   5411.864516      910.987097\n",
       "std    1115.128460      392.925408\n",
       "min    2853.000000       26.000000\n",
       "25%    4541.000000      615.000000\n",
       "50%    5386.000000      960.000000\n",
       "75%    6187.000000     1234.000000\n",
       "max    7769.000000     1684.000000"
      ]
     },
     "execution_count": 7,
     "metadata": {},
     "output_type": "execute_result"
    }
   ],
   "source": [
    "# drop Somalia\n",
    "df2_clean = df2.drop([111]).copy()\n",
    "\n",
    "# let's see summary\n",
    "df2_clean[['Score', 'GDP per capita']].describe()"
   ]
  },
  {
   "cell_type": "markdown",
   "metadata": {},
   "source": [
    "Now we will make a graph to see if there is any relation a priori between 'GDP per capita' and 'Score'."
   ]
  },
  {
   "cell_type": "code",
   "execution_count": 20,
   "metadata": {},
   "outputs": [
    {
     "data": {
      "image/png": "[encoded data removed]",
      "text/plain": [
       "<Figure size 700x490 with 1 Axes>"
      ]
     },
     "metadata": {
      "needs_background": "light"
     },
     "output_type": "display_data"
    }
   ],
   "source": [
    "# package \n",
    "import matplotlib.pyplot as plt\n",
    "\n",
    "# data\n",
    "y_axis = df2['Score'] # possible dependent variable\n",
    "x_axis = df2['GDP per capita'] # possible independent variable\n",
    "\n",
    "# Plot\n",
    "plt.figure(figsize= (10, 7), dpi= 70) # size plot\n",
    "plt.scatter(x_axis, y_axis, alpha=0.5) # assignment of the variables to the axes\n",
    "\n",
    "plt.title('Score / GDP per capita') # tittle\n",
    "plt.xlabel('GDP per capita') # label of x axis\n",
    "plt.ylabel('Score') # label of y axis\n",
    "\n",
    "# show the plot\n",
    "plt.show()"
   ]
  },
  {
   "cell_type": "markdown",
   "metadata": {},
   "source": [
    "A certain tendency towards linearity can be seen. According to the previous study, Score and GDP per capita have an R coefficient of 0.79, quite strong\n",
    "\n",
    "Let's calculate the model with a linear model, to see its results."
   ]
  },
  {
   "cell_type": "code",
   "execution_count": 27,
   "metadata": {},
   "outputs": [
    {
     "name": "stdout",
     "output_type": "stream",
     "text": [
      "Correlation coefficient 0.79 and p-value 0.0\n"
     ]
    }
   ],
   "source": [
    "# packages\n",
    "import numpy as np\n",
    "import scipy.stats\n",
    "\n",
    "# data\n",
    "y = df2['Score'] # possible dependent variable\n",
    "x = df2['GDP per capita'] # possible independent variable\n",
    "\n",
    "# Pearson correlation coefficient and p-value\n",
    "pearCoor, pvalue = scipy.stats.pearsonr(x, y)\n",
    "print(\"Correlation coefficient {} and p-value {}\".format(round(pearCoor, 2), round(pvalue, 5)))"
   ]
  },
  {
   "cell_type": "markdown",
   "metadata": {},
   "source": [
    "We see that it has a p-value below 0.05, which means that the result is significant."
   ]
  },
  {
   "cell_type": "code",
   "execution_count": 24,
   "metadata": {},
   "outputs": [
    {
     "data": {
      "text/plain": [
       "SpearmanrResult(correlation=0.8144834033942763, pvalue=3.052425844116973e-38)"
      ]
     },
     "execution_count": 24,
     "metadata": {},
     "output_type": "execute_result"
    }
   ],
   "source": [
    "scipy.stats.spearmanr(x, y)   # Spearman's rho"
   ]
  },
  {
   "cell_type": "code",
   "execution_count": 25,
   "metadata": {},
   "outputs": [
    {
     "data": {
      "text/plain": [
       "KendalltauResult(correlation=0.6199934327488547, pvalue=1.642184505577228e-30)"
      ]
     },
     "execution_count": 25,
     "metadata": {},
     "output_type": "execute_result"
    }
   ],
   "source": [
    "scipy.stats.kendalltau(x, y)  # Kendall's tau"
   ]
  },
  {
   "cell_type": "code",
   "execution_count": null,
   "metadata": {},
   "outputs": [],
   "source": []
  }
 ],
 "metadata": {
  "kernelspec": {
   "display_name": "Python 3",
   "language": "python",
   "name": "python3"
  },
  "language_info": {
   "codemirror_mode": {
    "name": "ipython",
    "version": 3
   },
   "file_extension": ".py",
   "mimetype": "text/x-python",
   "name": "python",
   "nbconvert_exporter": "python",
   "pygments_lexer": "ipython3",
   "version": "3.7.6"
  }
 },
 "nbformat": 4,
 "nbformat_minor": 4
}
