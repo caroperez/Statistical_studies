{
 "cells": [
  {
   "cell_type": "markdown",
   "metadata": {},
   "source": [
    "# *Probablility*"
   ]
  },
  {
   "cell_type": "markdown",
   "metadata": {},
   "source": [
    "## Logical operators"
   ]
  },
  {
   "cell_type": "markdown",
   "metadata": {},
   "source": [
    "### UNION\n",
    "\n",
    "In set theory, the union (denoted by ∪) of a collection of sets is the set of all elements in the collection. It is one of the fundamental operations through which sets can be combined and related to each other."
   ]
  },
  {
   "cell_type": "code",
   "execution_count": 1,
   "metadata": {},
   "outputs": [],
   "source": [
    "# values\n",
    "a = {1, 3, 2, 6}\n",
    "b = {6, 2, 5, 1}"
   ]
  },
  {
   "cell_type": "code",
   "execution_count": 2,
   "metadata": {},
   "outputs": [
    {
     "data": {
      "text/plain": [
       "{1, 2, 3, 5, 6}"
      ]
     },
     "execution_count": 2,
     "metadata": {},
     "output_type": "execute_result"
    }
   ],
   "source": [
    "# a U b\n",
    "a.union(b)"
   ]
  },
  {
   "cell_type": "code",
   "execution_count": 4,
   "metadata": {},
   "outputs": [
    {
     "name": "stdout",
     "output_type": "stream",
     "text": [
      "{1, 2, 3, 5, 6}\n"
     ]
    }
   ],
   "source": [
    "# also we can use operator |\n",
    "print(a | b)"
   ]
  },
  {
   "cell_type": "markdown",
   "metadata": {},
   "source": [
    "### Intersection"
   ]
  },
  {
   "cell_type": "markdown",
   "metadata": {},
   "source": [
    "The intersection of two sets A and B, denoted by A ∩ B, is the set containing all elements of A that also belong to B (or equivalently, all elements of B that also belong to A)."
   ]
  },
  {
   "cell_type": "code",
   "execution_count": 5,
   "metadata": {},
   "outputs": [
    {
     "data": {
      "text/plain": [
       "{1, 2, 6}"
      ]
     },
     "execution_count": 5,
     "metadata": {},
     "output_type": "execute_result"
    }
   ],
   "source": [
    "# a intersection b\n",
    "a.intersection(b)"
   ]
  },
  {
   "cell_type": "code",
   "execution_count": 6,
   "metadata": {},
   "outputs": [
    {
     "name": "stdout",
     "output_type": "stream",
     "text": [
      "{1, 2, 6}\n"
     ]
    }
   ],
   "source": [
    "# also we can use &\n",
    "print(a & b)"
   ]
  },
  {
   "cell_type": "markdown",
   "metadata": {},
   "source": [
    "### Set difference"
   ]
  },
  {
   "cell_type": "markdown",
   "metadata": {},
   "source": [
    "If A and B are sets, then the relative complement of A in B, also termed the set difference of B and A,[7] is the set of elements in B but not in A. "
   ]
  },
  {
   "cell_type": "code",
   "execution_count": 7,
   "metadata": {},
   "outputs": [
    {
     "data": {
      "text/plain": [
       "{3}"
      ]
     },
     "execution_count": 7,
     "metadata": {},
     "output_type": "execute_result"
    }
   ],
   "source": [
    "# a difference b\n",
    "a.difference(b)"
   ]
  },
  {
   "cell_type": "code",
   "execution_count": 8,
   "metadata": {},
   "outputs": [
    {
     "data": {
      "text/plain": [
       "{3}"
      ]
     },
     "execution_count": 8,
     "metadata": {},
     "output_type": "execute_result"
    }
   ],
   "source": [
    "# also we can use a - b\n",
    "a - b"
   ]
  },
  {
   "cell_type": "code",
   "execution_count": 9,
   "metadata": {},
   "outputs": [
    {
     "data": {
      "text/plain": [
       "{5}"
      ]
     },
     "execution_count": 9,
     "metadata": {},
     "output_type": "execute_result"
    }
   ],
   "source": [
    "# b difference a\n",
    "b.difference(a)"
   ]
  },
  {
   "cell_type": "code",
   "execution_count": 10,
   "metadata": {},
   "outputs": [
    {
     "data": {
      "text/plain": [
       "{5}"
      ]
     },
     "execution_count": 10,
     "metadata": {},
     "output_type": "execute_result"
    }
   ],
   "source": [
    "# also we can use b - a\n",
    "b - a"
   ]
  },
  {
   "cell_type": "markdown",
   "metadata": {},
   "source": [
    "### Symmetric difference "
   ]
  },
  {
   "cell_type": "markdown",
   "metadata": {},
   "source": [
    "The symmetric difference of two sets, also known as the disjunctive union, is the set of elements which are in either of the sets, but not in their intersection. "
   ]
  },
  {
   "cell_type": "code",
   "execution_count": 11,
   "metadata": {},
   "outputs": [
    {
     "data": {
      "text/plain": [
       "{3, 5}"
      ]
     },
     "execution_count": 11,
     "metadata": {},
     "output_type": "execute_result"
    }
   ],
   "source": [
    "# a symmetric_difference b\n",
    "a.symmetric_difference(b)"
   ]
  },
  {
   "cell_type": "code",
   "execution_count": 12,
   "metadata": {},
   "outputs": [
    {
     "data": {
      "text/plain": [
       "{3, 5}"
      ]
     },
     "execution_count": 12,
     "metadata": {},
     "output_type": "execute_result"
    }
   ],
   "source": [
    "# also we can use a ^ b\n",
    "a ^ b"
   ]
  },
  {
   "cell_type": "markdown",
   "metadata": {},
   "source": [
    "# Counting Functions"
   ]
  },
  {
   "cell_type": "markdown",
   "metadata": {},
   "source": [
    "### Factorial"
   ]
  },
  {
   "cell_type": "markdown",
   "metadata": {},
   "source": [
    "The factorial of a positive integer n, denoted by n!, is the product of all positive integers less than or equal to n!"
   ]
  },
  {
   "cell_type": "code",
   "execution_count": 13,
   "metadata": {},
   "outputs": [
    {
     "name": "stdout",
     "output_type": "stream",
     "text": [
      "1307674368000 [1, 2, 3, 4, 5, 6, 7, 8, 9, 10, 11, 12, 13, 14, 15] False\n"
     ]
    }
   ],
   "source": [
    "# import packages\n",
    "import math\n",
    "\n",
    "# we doing operations and compare results\n",
    "a = math.factorial(15)\n",
    "b = list(range(1, 16))\n",
    "print(a, b, a == b)"
   ]
  },
  {
   "cell_type": "markdown",
   "metadata": {},
   "source": [
    "### Permutations or combinations"
   ]
  },
  {
   "cell_type": "markdown",
   "metadata": {},
   "source": [
    "A **combination** is a selection of items from a collection, such that the order of selection does not matter."
   ]
  },
  {
   "cell_type": "code",
   "execution_count": 14,
   "metadata": {},
   "outputs": [
    {
     "name": "stdout",
     "output_type": "stream",
     "text": [
      "120.0 120.0 True\n"
     ]
    }
   ],
   "source": [
    "# import packages\n",
    "from scipy import special\n",
    "\n",
    "# doing operations (3 10)\n",
    "c = special.binom(10, 3)\n",
    "\n",
    "# classic formula\n",
    "a = math.factorial(10)\n",
    "b = math.factorial(3) * math.factorial(10 - 3)\n",
    "d = a / b\n",
    "\n",
    "# results and comparation\n",
    "print(c, d, c == d)"
   ]
  },
  {
   "cell_type": "markdown",
   "metadata": {},
   "source": [
    "If you do care about order, it’s a permutation. Without repeat."
   ]
  },
  {
   "cell_type": "code",
   "execution_count": 15,
   "metadata": {},
   "outputs": [
    {
     "name": "stdout",
     "output_type": "stream",
     "text": [
      "[(1, 2), (1, 3), (1, 4), (1, 5), (2, 1), (2, 3), (2, 4), (2, 5), (3, 1), (3, 2), (3, 4), (3, 5), (4, 1), (4, 2), (4, 3), (4, 5), (5, 1), (5, 2), (5, 3), (5, 4)]\n",
      "\n",
      " Number permutations:  20\n"
     ]
    }
   ],
   "source": [
    "# import packages\n",
    "import itertools\n",
    "\n",
    "# 5 elements\n",
    "a = [1, 2, 3, 4, 5]\n",
    "\n",
    "# permutations of 2 of 5 elements\n",
    "b = itertools.permutations(a, 2)\n",
    "c = list(b)\n",
    "print(c)\n",
    "\n",
    "# number of permutations\n",
    "print(\"\\n\", \"Number permutations: \", len(c))"
   ]
  },
  {
   "cell_type": "markdown",
   "metadata": {},
   "source": [
    "### Variations with repetition"
   ]
  },
  {
   "cell_type": "markdown",
   "metadata": {},
   "source": [
    "Or permutations with repeat. If you do care about order and can repeat elements."
   ]
  },
  {
   "cell_type": "code",
   "execution_count": 16,
   "metadata": {},
   "outputs": [
    {
     "name": "stdout",
     "output_type": "stream",
     "text": [
      "[(1, 1), (1, 2), (1, 3), (1, 4), (1, 5), (2, 1), (2, 2), (2, 3), (2, 4), (2, 5), (3, 1), (3, 2), (3, 3), (3, 4), (3, 5), (4, 1), (4, 2), (4, 3), (4, 4), (4, 5), (5, 1), (5, 2), (5, 3), (5, 4), (5, 5)] \n",
      "\n",
      " Number repititions: 25\n"
     ]
    }
   ],
   "source": [
    "# Remember use itertools package\n",
    "# import itertools\n",
    "\n",
    "# variations od 2 elements\n",
    "b = itertools.product(a, repeat = 2)\n",
    "c = list(b)\n",
    "\n",
    "# show results\n",
    "print(c, \"\\n\\n\", \"Number repititions:\",  len(c))"
   ]
  },
  {
   "cell_type": "markdown",
   "metadata": {},
   "source": [
    "# Discrete Random Variables"
   ]
  },
  {
   "cell_type": "markdown",
   "metadata": {},
   "source": [
    "### Binomial"
   ]
  },
  {
   "cell_type": "markdown",
   "metadata": {},
   "source": [
    "The Binomial theorem tells us how to expand expressions of the form (a+b)ⁿ, for example, (x+y)⁷. The larger the power is, the harder it is to expand expressions like this directly."
   ]
  },
  {
   "cell_type": "code",
   "execution_count": 17,
   "metadata": {},
   "outputs": [
    {
     "name": "stdout",
     "output_type": "stream",
     "text": [
      "[0 1 0 0 0 0 0 0 0 1 0 1 0 1 0 1 0 1 0 0 1 1 0 1 1 1 0 0 0 1 0 0 1 1 1 0 1\n",
      " 1 0 1 1 1 0 1 0 0 1 0 0 0 0 1 0 0 0 0 1 0 1 1 0 0 1 0 0 1 1 1 1 1 1 0 0 1\n",
      " 0 0 1 0 1 1 1 1 1 0 0 1 0 1 1 1 0 1 0 1 0 0 1 1 0 1 0 1 1 0 1 1 0 1 1 1 0\n",
      " 0 1 1 0 1 1 1 1 0 0 0 0 0 1 1 1 1 0 0 1 1 1 0 1 0 1 0 1 1 1 0 0 0 0 0 0 1\n",
      " 1 0 0 1 1 0 0 1 0 1 1 1 0 0 1 1 0 0 0 0 1 1 0 1 1 0 1 1 1 0 0 0 1 0 1 0 0\n",
      " 1 0 1 1 1 0 0 1 1 1 1 0 0 1 1 1 1 1 1 0 0 1 1 1 1 0 1 0 0 0 1 0 1 1 0 0 0\n",
      " 0 1 0 1 1 1 1 1 0 1 1 0 0 1 0 1 0 1 0 1 1 0 1 1 0 0 1 1 0 1 0 1 1 1 1 1 0\n",
      " 1 1 1 1 1 1 0 1 0 0 0 0 0 1 0 1 1 0 0 0 1 1 1 1 0 0 1 1 1 1 1 1 1 1 0 0 0\n",
      " 0 0 1 0 1 1 1 1 0 0 0 0 1 0 1 1 0 0 0 0 1 0 0 1 0 1 0 0 1 0 0 1 1 1 0 1 0\n",
      " 1 1 0 0 1 1 1 1 1 1 1 0 1 1 1 1 0 1 1 0 0 1 0 1 0 1 1 0 0 1 1 1 1 1 1 1 0\n",
      " 0 0 0 1 0 0 1 1 1 0 0 1 1 0 0 0 1 0 0 1 0 1 0 0 1 1 0 1 1 1 1 1 0 1 0 1 0\n",
      " 0 0 0 0 1 1 1 1 0 1 0 1 1 0 0 0 0 0 0 0 1 0 1 0 0 0 0 1 0 1 0 1 0 1 0 1 0\n",
      " 1 1 1 1 0 0 0 1 1 1 1 1 1 0 0 0 0 1 0 0 1 0 1 0 1 0 1 0 0 1 1 0 1 1 0 1 0\n",
      " 1 1 1 0 1 0 0 1 0 1 1 0 0 0 1 1 1 1 0 0 0 0 0 1 0 1 0 1 0 1 0 0 0 1 0 1 0\n",
      " 1 1 1 1 1 1 1 0 0 0 0 0 1 0 1 1 1 1 1 0 0 0 0 1 0 0 0 0 1 0 1 0 0 1 1 0 0\n",
      " 0 1 1 1 0 0 1 1 0 1 1 0 1 1 0 0 1 1 1 1 1 0 1 1 0 1 0 1 0 1 0 1 0 0 1 0 1\n",
      " 1 0 0 0 0 0 0 0 1 1 0 0 0 1 1 1 0 1 0 1 1 0 0 1 0 0 0 0 0 1 0 1 1 0 1 1 1\n",
      " 1 0 1 1 0 1 0 1 0 0 0 0 1 0 1 0 0 0 0 1 0 0 0 1 0 1 0 1 0 1 0 1 1 0 1 0 1\n",
      " 1 0 1 0 1 1 0 1 1 1 0 0 1 1 1 1 1 1 0 1 1 1 0 1 0 1 1 0 0 0 0 1 1 0 0 0 1\n",
      " 0 0 0 1 0 0 1 0 0 0 1 1 0 1 0 1 0 0 1 1 1 1 0 1 0 1 1 1 0 1 0 1 1 1 1 1 0\n",
      " 1 0 0 1 0 1 1 0 0 1 0 0 1 1 0 1 0 1 0 1 0 1 0 0 0 0 1 1 1 1 1 1 1 0 1 0 0\n",
      " 0 0 0 0 1 0 1 1 0 1 1 0 1 0 0 0 1 0 1 0 1 0 1 1 0 1 1 0 1 0 1 1 0 0 0 1 0\n",
      " 1 0 0 0 1 1 1 0 1 0 0 0 0 0 1 1 1 1 0 0 1 1 0 0 0 0 0 0 0 1 1 0 1 0 1 0 1\n",
      " 1 1 0 0 1 1 1 0 1 1 0 0 1 1 1 1 1 0 1 0 0 0 0 1 0 0 0 1 1 0 0 1 0 1 0 1 0\n",
      " 1 0 0 0 0 0 1 0 1 1 1 0 0 1 0 1 1 0 1 0 1 0 1 0 1 1 1 0 1 1 0 1 0 0 0 1 0\n",
      " 0 1 1 0 0 0 0 0 0 1 1 0 1 0 1 0 0 0 1 0 1 0 0 0 0 0 1 0 0 0 0 1 0 0 1 1 1\n",
      " 1 1 0 0 0 0 1 0 1 1 0 1 0 0 0 1 0 1 0 0 1 0 0 1 1 0 1 1 1 0 1 0 1 1 0 1 0\n",
      " 1]\n"
     ]
    }
   ],
   "source": [
    "# require packages\n",
    "from scipy import stats\n",
    "\n",
    "# sample from sample space of binomial function\n",
    "sample = stats.binom.rvs(n = 1, p=0.5, size=1000, random_state=1)\n",
    "\n",
    "print(sample)"
   ]
  },
  {
   "cell_type": "code",
   "execution_count": 18,
   "metadata": {},
   "outputs": [
    {
     "data": {
      "text/plain": [
       "RepeatedResults(values=array([0., 1.]), counts=array([494, 506], dtype=int64))"
      ]
     },
     "execution_count": 18,
     "metadata": {},
     "output_type": "execute_result"
    }
   ],
   "source": [
    "# function for find repeats and counts\n",
    "stats.find_repeats(sample)"
   ]
  },
  {
   "cell_type": "code",
   "execution_count": 19,
   "metadata": {},
   "outputs": [
    {
     "name": "stdout",
     "output_type": "stream",
     "text": [
      "P(X = 0) = 0.25\n",
      "P(X <= 1) = 0.75\n",
      "E[X] = 0.25\n",
      "Var(X) = 0.1875\n",
      "Std(X) = 0.4330127018922193\n",
      "Get a random sample from X: 1\n",
      "Get 10 random samples form X: [0 0 1 0 0 1 0 1 0 0 0 0 1 0 0 1 1 1 0 1 1 0 0 0 0 0 0 0 0 0 1 0 0 0 1 1 1\n",
      " 0 0 0 0 0 0 0 0 0 0 0 1 1 1 0 1 0 0 0 0 0 0 0 1 1 1 0 0 0 0 0 0 1 0 0 0 1\n",
      " 0 0 0 0 0 0 0 0 0 0 0 0 0 0 0 0 0 1 1 0 0 0 0 1 0 0]\n"
     ]
    }
   ],
   "source": [
    "c = stats.binom(1, 0.25) # Declare c to be a binomial random variable\n",
    "\n",
    "print(\"P(X = 0) =\", c.pmf(1))                       # P(X = 3)\n",
    "print(\"P(X <= 1) =\", c.cdf(0))                      # P(X <= 4)\n",
    "print(\"E[X] =\", c.mean())                           # E[X]\n",
    "print(\"Var(X) =\", c.var())                          # Var(X)\n",
    "print(\"Std(X) =\", c.std())                          # Std(X)\n",
    "print(\"Get a random sample from X:\", c.rvs())      # Get a random sample from X\n",
    "print(\"Get 10 random samples form X:\", c.rvs(100))  # Get 10 random samples form X"
   ]
  },
  {
   "cell_type": "code",
   "execution_count": 20,
   "metadata": {},
   "outputs": [
    {
     "name": "stdout",
     "output_type": "stream",
     "text": [
      "Help on rv_frozen in module scipy.stats._distn_infrastructure object:\n",
      "\n",
      "class rv_frozen(builtins.object)\n",
      " |  rv_frozen(dist, *args, **kwds)\n",
      " |  \n",
      " |  # Frozen RV class\n",
      " |  \n",
      " |  Methods defined here:\n",
      " |  \n",
      " |  __init__(self, dist, *args, **kwds)\n",
      " |      Initialize self.  See help(type(self)) for accurate signature.\n",
      " |  \n",
      " |  cdf(self, x)\n",
      " |  \n",
      " |  entropy(self)\n",
      " |  \n",
      " |  expect(self, func=None, lb=None, ub=None, conditional=False, **kwds)\n",
      " |  \n",
      " |  interval(self, alpha)\n",
      " |  \n",
      " |  isf(self, q)\n",
      " |  \n",
      " |  logcdf(self, x)\n",
      " |  \n",
      " |  logpdf(self, x)\n",
      " |  \n",
      " |  logpmf(self, k)\n",
      " |  \n",
      " |  logsf(self, x)\n",
      " |  \n",
      " |  mean(self)\n",
      " |  \n",
      " |  median(self)\n",
      " |  \n",
      " |  moment(self, n)\n",
      " |  \n",
      " |  pdf(self, x)\n",
      " |  \n",
      " |  pmf(self, k)\n",
      " |  \n",
      " |  ppf(self, q)\n",
      " |  \n",
      " |  rvs(self, size=None, random_state=None)\n",
      " |  \n",
      " |  sf(self, x)\n",
      " |  \n",
      " |  stats(self, moments='mv')\n",
      " |  \n",
      " |  std(self)\n",
      " |  \n",
      " |  support(self)\n",
      " |  \n",
      " |  var(self)\n",
      " |  \n",
      " |  ----------------------------------------------------------------------\n",
      " |  Data descriptors defined here:\n",
      " |  \n",
      " |  __dict__\n",
      " |      dictionary for instance variables (if defined)\n",
      " |  \n",
      " |  __weakref__\n",
      " |      list of weak references to the object (if defined)\n",
      " |  \n",
      " |  random_state\n",
      "\n"
     ]
    }
   ],
   "source": [
    "# we can see all posibilities with comand help()\n",
    "help(c)"
   ]
  },
  {
   "cell_type": "markdown",
   "metadata": {},
   "source": [
    "Bearing in mind that we have a fair coin (same probability that any of their faces will come out), what is the probability of coming out certain number of head (defined as 1) in k number tries."
   ]
  },
  {
   "cell_type": "code",
   "execution_count": 21,
   "metadata": {},
   "outputs": [
    {
     "name": "stdout",
     "output_type": "stream",
     "text": [
      "P(x = 4) =  0.20507812500000022\n"
     ]
    }
   ],
   "source": [
    "# we define pdf\n",
    "c = stats.binom(n=10, p = 0.5) # 10 trys\n",
    "\n",
    "# 4 head in 10 tries\n",
    "print(\"P(x = 4) = \", c.pmf(4)) # 4 head in 10 tries"
   ]
  },
  {
   "cell_type": "code",
   "execution_count": 22,
   "metadata": {},
   "outputs": [
    {
     "name": "stderr",
     "output_type": "stream",
     "text": [
      "C:\\ProgramData\\Anaconda3\\lib\\site-packages\\seaborn\\distributions.py:2551: FutureWarning: `distplot` is a deprecated function and will be removed in a future version. Please adapt your code to use either `displot` (a figure-level function with similar flexibility) or `histplot` (an axes-level function for histograms).\n",
      "  warnings.warn(msg, FutureWarning)\n"
     ]
    },
    {
     "name": "stdout",
     "output_type": "stream",
     "text": [
      "P(x = 4) = 10312 / 50000  = 0.20624\n"
     ]
    },
    {
     "data": {
      "image/png": "[encoded data removed]",
      "text/plain": [
       "<Figure size 700x490 with 1 Axes>"
      ]
     },
     "metadata": {
      "needs_background": "light"
     },
     "output_type": "display_data"
    }
   ],
   "source": [
    "# data for plot\n",
    "df = stats.binom.rvs(n=10, p = 0.5, size = 50000) # number = 10, probability = 0.5, try = 5000\n",
    "\n",
    "# necessary package\n",
    "import numpy as np\n",
    "import matplotlib.pyplot as plt\n",
    "import seaborn as sns\n",
    "\n",
    "# necessary for show plot\n",
    "%matplotlib inline\n",
    "\n",
    "# plot\n",
    "plt.figure(figsize= (10, 7), dpi= 70)\n",
    "ax = sns.distplot(df, kde = True, color = 'blue', hist_kws = {\"linewidth\": 25,'alpha': .3})\n",
    "ax.set(xlabel = 'Binomial', ylabel = 'Frequency')\n",
    "print(\"P(x = 4) = {} / {}\".format(np.count_nonzero((df == 4)), len(df)), \" = {}\".format(np.count_nonzero((df == 4))/len(df)))\n",
    "\n",
    "# show plot\n",
    "plt.show()"
   ]
  },
  {
   "cell_type": "markdown",
   "metadata": {},
   "source": [
    "### Poisson"
   ]
  },
  {
   "cell_type": "markdown",
   "metadata": {},
   "source": [
    "Poisson is a discrete probability distribution that expresses the probability of a given number of events occurring in a fixed interval of time or space if these events occur with a known constant mean rate and independently of the time since the last event."
   ]
  },
  {
   "cell_type": "code",
   "execution_count": 23,
   "metadata": {},
   "outputs": [
    {
     "name": "stdout",
     "output_type": "stream",
     "text": [
      "P(x = 4) = 0.16803135574154085\n",
      "[4 3 3 3 4 5 4 2 1 4 5 6 4 4 3 4 3 2 1 4 3 2 2 3 5 1 3 3 6 2 3 1 4 2 1 2 2\n",
      " 2 6 1 4 2 1 5 1 3 1 3 2 4 3 6 7 2 5 2 1 2 5 5 4 2 2 6 5 2 6 4 4 2 5 3 2 2\n",
      " 3 5 4 3 2 4 1 4 4 2 4 5 2 3 0 3 5 6 5 6 2 4 3 3 2 1]\n"
     ]
    }
   ],
   "source": [
    "# remember scipy -> stats package is necesary\n",
    "# from scipy import stats\n",
    "\n",
    "# fixet a poisson random variable lambda\n",
    "x = stats.poisson(3)\n",
    "\n",
    "# P(x = 4)\n",
    "print(\"P(x = 4) =\", x.pmf(4))\n",
    "\n",
    "# simulate 100 events\n",
    "print(x.rvs(100))"
   ]
  },
  {
   "cell_type": "code",
   "execution_count": 28,
   "metadata": {},
   "outputs": [
    {
     "name": "stderr",
     "output_type": "stream",
     "text": [
      "C:\\ProgramData\\Anaconda3\\lib\\site-packages\\seaborn\\distributions.py:2551: FutureWarning: `distplot` is a deprecated function and will be removed in a future version. Please adapt your code to use either `displot` (a figure-level function with similar flexibility) or `histplot` (an axes-level function for histograms).\n",
      "  warnings.warn(msg, FutureWarning)\n"
     ]
    },
    {
     "data": {
      "image/png": "[encoded data removed]",
      "text/plain": [
       "<Figure size 700x490 with 1 Axes>"
      ]
     },
     "metadata": {},
     "output_type": "display_data"
    }
   ],
   "source": [
    "# plot with distribution\n",
    "# package mathplotlib and seaborn\n",
    "import matplotlib.pyplot as plt\n",
    "import seaborn as sns\n",
    "\n",
    "# necessary for show plot\n",
    "%matplotlib inline\n",
    "\n",
    "# generate data from last distribution poisson\n",
    "x = stats.poisson(3)\n",
    "df = x.rvs(5000)\n",
    "\n",
    "# plot\n",
    "sns.set_style(\"white\")\n",
    "plt.figure(figsize= (10, 7), dpi= 70)\n",
    "kwargs = dict(hist_kws={'alpha': .6}, kde_kws={'linewidth': 2})\n",
    "ax = sns.distplot(df, color=\"dodgerblue\", label=\"Compact\", **kwargs)\n",
    "ax.set(xlabel='Poisson', ylabel='Frequency')\n",
    "\n",
    "# show plot\n",
    "plt.show()"
   ]
  },
  {
   "cell_type": "markdown",
   "metadata": {},
   "source": [
    "In a doctor's office, every 10 hours there is one patient with a pathology in the heart. \n",
    "\n",
    "How likely is it that twoo patient with a heart condition will show up at the office?"
   ]
  },
  {
   "cell_type": "code",
   "execution_count": 29,
   "metadata": {},
   "outputs": [
    {
     "name": "stdout",
     "output_type": "stream",
     "text": [
      "P(x = 2) = 0.004524187090179801\n"
     ]
    }
   ],
   "source": [
    "# current probability\n",
    "x = stats.poisson(1/10)\n",
    "\n",
    "# P(x = 2) twoo patients in one hour\n",
    "print(\"P(x = 2) =\", x.pmf(2))"
   ]
  },
  {
   "cell_type": "markdown",
   "metadata": {},
   "source": [
    "### Geometric"
   ]
  },
  {
   "cell_type": "markdown",
   "metadata": {},
   "source": [
    "The geometric distribution is a suitable model for those processes in which tests are repeated until the desired result is achieved and has interesting applications in the samples made in this way. It also implies the existence of a dichotomy of possible results and the independence of the tests from each other."
   ]
  },
  {
   "cell_type": "code",
   "execution_count": 30,
   "metadata": {},
   "outputs": [
    {
     "name": "stdout",
     "output_type": "stream",
     "text": [
      "P(x = 3) = 0.147875\n",
      "Random number from geometric distribution: 4\n"
     ]
    }
   ],
   "source": [
    "# remember stats packages from scipy is necessary\n",
    "# from scipy import stats\n",
    "\n",
    "# geometric random variable\n",
    "c = stats.geom(0.35) # c is a geometric random variable\n",
    "print(\"P(x = 3) = {}\".format(c.pmf(3)))       # P(X = 3)\n",
    "print(\"Random number from geometric distribution: {}\".format(c.rvs())) # Get a random sample from Y"
   ]
  },
  {
   "cell_type": "markdown",
   "metadata": {},
   "source": [
    "Suppose we want to make a study on the random variable referring to the number of times a player needs to make the start in the game of Parcheesi. We must remember that, in this game, a player does not start the same until he gets a 5 when he throws the dice."
   ]
  },
  {
   "cell_type": "code",
   "execution_count": 34,
   "metadata": {},
   "outputs": [
    {
     "name": "stdout",
     "output_type": "stream",
     "text": [
      "probability to have a 5 in 3 tries P(x = 3) = 0.12 %\n"
     ]
    }
   ],
   "source": [
    "# geometric probability is p = 1/6\n",
    "c = stats.geom(1/6)\n",
    "print('probability to have a 5 in 3 tries', \n",
    "      \"P(x = 3) = {}\".format(round(c.pmf(3), 2)), '%') # probability to have a 5 in 3 tries"
   ]
  },
  {
   "cell_type": "code",
   "execution_count": 40,
   "metadata": {},
   "outputs": [
    {
     "name": "stderr",
     "output_type": "stream",
     "text": [
      "C:\\ProgramData\\Anaconda3\\lib\\site-packages\\seaborn\\distributions.py:2551: FutureWarning: `distplot` is a deprecated function and will be removed in a future version. Please adapt your code to use either `displot` (a figure-level function with similar flexibility) or `histplot` (an axes-level function for histograms).\n",
      "  warnings.warn(msg, FutureWarning)\n"
     ]
    },
    {
     "data": {
      "image/png": "[encoded data removed]",
      "text/plain": [
       "<Figure size 700x490 with 1 Axes>"
      ]
     },
     "metadata": {},
     "output_type": "display_data"
    }
   ],
   "source": [
    "%matplotlib inline\n",
    "\n",
    "# generate data from last distribution poisson\n",
    "x = stats.geom(3)\n",
    "df = c.rvs(1000)\n",
    "\n",
    "# plot\n",
    "sns.set_style(\"white\")\n",
    "plt.figure(figsize= (10, 7), dpi= 70)\n",
    "kwargs = dict(hist_kws={'alpha': .6}, kde_kws={'linewidth': 2})\n",
    "ax = sns.distplot(df, color=\"dodgerblue\", label=\"Compact\", **kwargs)\n",
    "ax.set(xlabel='Geometric', ylabel='Frequency')\n",
    "\n",
    "# show plot\n",
    "plt.show()"
   ]
  },
  {
   "cell_type": "code",
   "execution_count": null,
   "metadata": {},
   "outputs": [],
   "source": []
  }
 ],
 "metadata": {
  "kernelspec": {
   "display_name": "Python 3",
   "language": "python",
   "name": "python3"
  },
  "language_info": {
   "codemirror_mode": {
    "name": "ipython",
    "version": 3
   },
   "file_extension": ".py",
   "mimetype": "text/x-python",
   "name": "python",
   "nbconvert_exporter": "python",
   "pygments_lexer": "ipython3",
   "version": "3.7.9"
  }
 },
 "nbformat": 4,
 "nbformat_minor": 4
}
