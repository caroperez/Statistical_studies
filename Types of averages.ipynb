{
 "cells": [
  {
   "cell_type": "markdown",
   "metadata": {},
   "source": [
    "# Types of averages: explanation and visualization of arithmetic, geometric and harmonic averages"
   ]
  },
  {
   "cell_type": "markdown",
   "metadata": {},
   "source": [
    "The arithmetic mean is the most known and used by most people. It is what we would know as the average. It is very simple to calculate, since it is the sum of the parts divided by the number of them.\n",
    "\n",
    "Let's look at an example of this."
   ]
  },
  {
   "cell_type": "code",
   "execution_count": 9,
   "metadata": {},
   "outputs": [],
   "source": [
    "# packages\n",
    "from itertools import chain, repeat\n",
    "import re\n",
    "from math import floor, tan, pi\n",
    "import os\n",
    "import glob\n",
    "\n",
    "import numpy as np\n",
    "from scipy.stats import hmean\n",
    "from matplotlib import rcParams, colors, pyplot as plt\n",
    "import imageio\n",
    "import tqdm"
   ]
  },
  {
   "cell_type": "code",
   "execution_count": 10,
   "metadata": {},
   "outputs": [],
   "source": [
    "\n",
    "def values_grid(funk, range):\n",
    "    '''Returns a 2D grid of values from given function when fed all 2-tuples of numbers in given range'''\n",
    "    x_vals, y_vals = list(range), list(range)\n",
    "\n",
    "    grid = []\n",
    "    for x in x_vals:\n",
    "        row = []\n",
    "        for y in y_vals:\n",
    "            row.append(funk(x, y))\n",
    "        grid.append(row)\n",
    "    return grid\n",
    "\n",
    "\n",
    "def plot_funk(\n",
    "    funk,\n",
    "    _range=np.arange(10**-4, 4, 0.01),\n",
    "    p_label='',\n",
    "    continuous=False,\n",
    "    all_ticks=False,\n",
    "    save_file=False    \n",
    "):\n",
    "    '''\n",
    "        Plots the result of a function taking two numerical arguments.\n",
    "        x and y are the two arguments, the color is the result (lighter is higher).\n",
    "    '''\n",
    "    values = values_grid(funk, _range)\n",
    "    \n",
    "    rcParams['figure.dpi'] = 80\n",
    "    rcParams['font.family'] = 'sans-serif'\n",
    "    figure, ax = plt.subplots(figsize=(6, 4.8))\n",
    "    plt.subplots_adjust(top=1, bottom=0, left=0.15, right=0.95)\n",
    "    if continuous:\n",
    "        kwargs= {\n",
    "            'cmap': 'gray'\n",
    "        }\n",
    "    else:\n",
    "        kwargs= {\n",
    "            'cmap': 'gray',\n",
    "            'norm': colors.BoundaryNorm(\n",
    "                boundaries=np.arange(-0.125, 4.25, 0.25),\n",
    "                ncolors=250\n",
    "            )\n",
    "        }\n",
    "\n",
    "    im = plt.imshow(values, **kwargs)\n",
    "    ax.invert_yaxis()\n",
    "    if all_ticks and not continuous:\n",
    "        cbar = plt.colorbar(\n",
    "            fraction=0.03,\n",
    "            aspect=24,\n",
    "            pad=0.1\n",
    "        )\n",
    "    else:\n",
    "        cbar = plt.colorbar(\n",
    "            fraction=0.03,\n",
    "            aspect=12,\n",
    "            pad=0.1\n",
    "        )\n",
    "    ax.tick_params(axis='x', labelsize=14, width=1, length=5, pad=6)\n",
    "    ax.tick_params(axis='y', labelsize=14, width=1, length=4.5, pad=4)\n",
    "    if all_ticks:\n",
    "        ax.set_xticks(np.arange(0, 5) * 100)\n",
    "        ax.set_yticks(np.arange(0, 5) * 100)\n",
    "        ax.set_xticklabels(range(0, 5), rotation=0)\n",
    "        ax.set_yticklabels(range(0, 5))\n",
    "        if continuous:\n",
    "            cbar.set_ticks([0, 1, 2, 3, 3.99])\n",
    "            cbar.ax.set_yticklabels(range(0, 5))\n",
    "        else:\n",
    "            cbar.set_ticks(np.arange(0, 4.25, 0.25))\n",
    "            cbar.ax.set_yticklabels(np.arange(0, 4.25, 0.25))\n",
    "    else:\n",
    "        ax.set_xticks([-0.5, 400]) # set ticks to zero instead of middle of first color square\n",
    "        ax.set_yticks([-0.5, 400])\n",
    "        ax.set_xticklabels(['0', ''], rotation=0)\n",
    "        ax.set_yticklabels(['0', ''])\n",
    "        ax.figure.text(0.107, 0.922, '𝑥', family='serif', fontsize=16) # hack in tick labels in different font\n",
    "        ax.figure.text(0.838, 0.01, '𝑥', family='serif', fontsize=16) # \"\n",
    "        cbar.set_ticks([0, 4])\n",
    "        cbar.ax.set_yticklabels(['0', ''], fontsize=14)\n",
    "        ax.figure.text(0.965, 0.655, '𝑥', family='serif', fontsize=16) # hack in colorbar labels in different font\n",
    "\n",
    "    ax.figure.text(0.17, 0.95, p_label, family='monospace', fontsize=18) # label with p value\n",
    "    if save_file:\n",
    "        ax.figure.savefig(save_file)\n",
    "    plt.show()\n",
    "    plt.close(figure)\n",
    "\n",
    "def arithmetic_mean(a, b):\n",
    "    return (a + b) / 2"
   ]
  },
  {
   "cell_type": "code",
   "execution_count": 11,
   "metadata": {},
   "outputs": [
    {
     "data": {
      "image/png": "[encoded data removed]",
      "text/plain": [
       "<Figure size 480x384 with 2 Axes>"
      ]
     },
     "metadata": {
      "needs_background": "light"
     },
     "output_type": "display_data"
    }
   ],
   "source": [
    "plot_funk(\n",
    "    arithmetic_mean,\n",
    "    continuous=True,\n",
    "    all_ticks=True)"
   ]
  },
  {
   "cell_type": "code",
   "execution_count": null,
   "metadata": {},
   "outputs": [],
   "source": []
  }
 ],
 "metadata": {
  "kernelspec": {
   "display_name": "Python 3",
   "language": "python",
   "name": "python3"
  },
  "language_info": {
   "codemirror_mode": {
    "name": "ipython",
    "version": 3
   },
   "file_extension": ".py",
   "mimetype": "text/x-python",
   "name": "python",
   "nbconvert_exporter": "python",
   "pygments_lexer": "ipython3",
   "version": "3.7.9"
  }
 },
 "nbformat": 4,
 "nbformat_minor": 4
}
