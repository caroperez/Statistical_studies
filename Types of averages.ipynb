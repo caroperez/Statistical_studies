{
 "cells": [
  {
   "cell_type": "markdown",
   "metadata": {},
   "source": [
    "# Types of averages: explanation and visualization of arithmetic, geometric and harmonic averages"
   ]
  },
  {
   "cell_type": "markdown",
   "metadata": {},
   "source": [
    "The arithmetic mean is the most known and used by most people. It is what we would know as the average. It is very simple to calculate, since it is the sum of the parts divided by the number of them.\n",
    "\n",
    "Let's look at an example of this."
   ]
  },
  {
   "cell_type": "code",
   "execution_count": 1,
   "metadata": {},
   "outputs": [],
   "source": [
    "# packages\n",
    "import numpy as np\n",
    "import pandas as pd\n",
    "import matplotlib.pyplot as plt\n",
    "import seaborn as sns"
   ]
  },
  {
   "cell_type": "code",
   "execution_count": 2,
   "metadata": {},
   "outputs": [
    {
     "name": "stdout",
     "output_type": "stream",
     "text": [
      "[-0.91199078 -0.29208458  0.1283459  ... -0.50589006 -0.26890013\n",
      "  1.68714091] \n",
      "\n",
      "Mean: 0.02, Standar desviation: 0.993\n"
     ]
    }
   ],
   "source": [
    "# sample of number with normal distribution with mean 0 and standar desviation 1\n",
    "x = np.random.normal(0, 1, 5000)\n",
    "\n",
    "# aritmetic mean and standar desviation\n",
    "x_mean = round(np.mean(x), 3)\n",
    "x_std = round(np.std(x), 3)\n",
    "\n",
    "# show data\n",
    "print(x, '\\n')\n",
    "print('Mean: {}, Standar desviation: {}'.format(x_mean, x_std))"
   ]
  },
  {
   "cell_type": "code",
   "execution_count": 3,
   "metadata": {},
   "outputs": [
    {
     "name": "stderr",
     "output_type": "stream",
     "text": [
      "C:\\ProgramData\\Anaconda3\\lib\\site-packages\\seaborn\\distributions.py:2551: FutureWarning: `distplot` is a deprecated function and will be removed in a future version. Please adapt your code to use either `displot` (a figure-level function with similar flexibility) or `histplot` (an axes-level function for histograms).\n",
      "  warnings.warn(msg, FutureWarning)\n"
     ]
    },
    {
     "data": {
      "image/png": "[encoded data removed]",
      "text/plain": [
       "<Figure size 792x504 with 1 Axes>"
      ]
     },
     "metadata": {
      "needs_background": "light"
     },
     "output_type": "display_data"
    }
   ],
   "source": [
    "%matplotlib inline\n",
    "\n",
    "fig, ax = plt.subplots(figsize= (11, 7))\n",
    "\n",
    "sns.distplot(x)\n",
    "plt.axvline(x_mean, 0, 0.9)\n",
    "\n",
    "ax.set_title('Distribution normal')\n",
    "\n",
    "plt.show()"
   ]
  },
  {
   "cell_type": "code",
   "execution_count": 32,
   "metadata": {},
   "outputs": [
    {
     "name": "stderr",
     "output_type": "stream",
     "text": [
      "C:\\ProgramData\\Anaconda3\\lib\\site-packages\\ipykernel_launcher.py:5: RuntimeWarning: divide by zero encountered in true_divide\n",
      "  \"\"\"\n"
     ]
    },
    {
     "data": {
      "text/plain": [
       "<function matplotlib.pyplot.show(close=None, block=None)>"
      ]
     },
     "execution_count": 32,
     "metadata": {},
     "output_type": "execute_result"
    },
    {
     "data": {
      "image/png": "[encoded data removed]",
      "text/plain": [
       "<Figure size 432x288 with 1 Axes>"
      ]
     },
     "metadata": {
      "needs_background": "light"
     },
     "output_type": "display_data"
    }
   ],
   "source": [
    "%matplotlib inline\n",
    "\n",
    "# data\n",
    "df = np.linspace(0, 255, 155 * 155).reshape(155, 155)\n",
    "mean_df = np.divide(df, df[::-1])\n",
    "\n",
    "plt.imshow(df, cmap = \"gray\")\n",
    "plt.show"
   ]
  },
  {
   "cell_type": "code",
   "execution_count": 24,
   "metadata": {},
   "outputs": [],
   "source": [
    "\n",
    "def values_grid(funk, range):\n",
    "    '''Returns a 2D grid of values from given function when fed all 2-tuples of numbers in given range'''\n",
    "    x_vals, y_vals = list(range), list(range)\n",
    "\n",
    "    grid = []\n",
    "    for x in x_vals:\n",
    "        row = []\n",
    "        for y in y_vals:\n",
    "            row.append(funk(x, y))\n",
    "        grid.append(row)\n",
    "    return grid\n",
    "\n",
    "\n",
    "def plot_funk(\n",
    "    funk,\n",
    "    _range=np.arange(10**-4, 4, 0.01),\n",
    "    p_label='',\n",
    "    continuous=False,\n",
    "    all_ticks=False,\n",
    "    save_file=False    \n",
    "):\n",
    "    '''\n",
    "        Plots the result of a function taking two numerical arguments.\n",
    "        x and y are the two arguments, the color is the result (lighter is higher).\n",
    "    '''\n",
    "    values = values_grid(funk, _range)\n",
    "    \n",
    "    rcParams['figure.dpi'] = 80\n",
    "    rcParams['font.family'] = 'sans-serif'\n",
    "    figure, ax = plt.subplots(figsize=(6, 4.8))\n",
    "    plt.subplots_adjust(top=1, bottom=0, left=0.15, right=0.95)\n",
    "    if continuous:\n",
    "        kwargs= {\n",
    "            'cmap': 'gray'\n",
    "        }\n",
    "    else:\n",
    "        kwargs= {\n",
    "            'cmap': 'gray',\n",
    "            'norm': colors.BoundaryNorm(\n",
    "                boundaries=np.arange(-0.125, 4.25, 0.25),\n",
    "                ncolors=250\n",
    "            )\n",
    "        }\n",
    "\n",
    "    im = plt.imshow(values, **kwargs)\n",
    "    ax.invert_yaxis()\n",
    "    if all_ticks and not continuous:\n",
    "        cbar = plt.colorbar(\n",
    "            fraction=0.03,\n",
    "            aspect=24,\n",
    "            pad=0.1\n",
    "        )\n",
    "    else:\n",
    "        cbar = plt.colorbar(\n",
    "            fraction=0.03,\n",
    "            aspect=12,\n",
    "            pad=0.1\n",
    "        )\n",
    "    ax.tick_params(axis='x', labelsize=14, width=1, length=5, pad=6)\n",
    "    ax.tick_params(axis='y', labelsize=14, width=1, length=4.5, pad=4)\n",
    "    if all_ticks:\n",
    "        ax.set_xticks(np.arange(0, 5) * 100)\n",
    "        ax.set_yticks(np.arange(0, 5) * 100)\n",
    "        ax.set_xticklabels(range(0, 5), rotation=0)\n",
    "        ax.set_yticklabels(range(0, 5))\n",
    "        if continuous:\n",
    "            cbar.set_ticks([0, 1, 2, 3, 3.99])\n",
    "            cbar.ax.set_yticklabels(range(0, 5))\n",
    "        else:\n",
    "            cbar.set_ticks(np.arange(0, 4.25, 0.25))\n",
    "            cbar.ax.set_yticklabels(np.arange(0, 4.25, 0.25))\n",
    "    else:\n",
    "        ax.set_xticks([-0.5, 400]) # set ticks to zero instead of middle of first color square\n",
    "        ax.set_yticks([-0.5, 400])\n",
    "        ax.set_xticklabels(['0', ''], rotation=0)\n",
    "        ax.set_yticklabels(['0', ''])\n",
    "        ax.figure.text(0.107, 0.922, '𝑥', family='serif', fontsize=16) # hack in tick labels in different font\n",
    "        ax.figure.text(0.838, 0.01, '𝑥', family='serif', fontsize=16) # \"\n",
    "        cbar.set_ticks([0, 4])\n",
    "        cbar.ax.set_yticklabels(['0', ''], fontsize=14)\n",
    "        ax.figure.text(0.965, 0.655, '𝑥', family='serif', fontsize=16) # hack in colorbar labels in different font\n",
    "\n",
    "    ax.figure.text(0.17, 0.95, p_label, family='monospace', fontsize=18) # label with p value\n",
    "    if save_file:\n",
    "        ax.figure.savefig(save_file)\n",
    "    plt.show()\n",
    "    plt.close(figure)\n",
    "\n",
    "def arithmetic_mean(a, b):\n",
    "    return (a + b) / 2"
   ]
  },
  {
   "cell_type": "code",
   "execution_count": 30,
   "metadata": {},
   "outputs": [
    {
     "data": {
      "text/plain": [
       "252594.34905660377"
      ]
     },
     "execution_count": 30,
     "metadata": {},
     "output_type": "execute_result"
    }
   ],
   "source": []
  },
  {
   "cell_type": "code",
   "execution_count": 25,
   "metadata": {},
   "outputs": [
    {
     "data": {
      "image/png": "[encoded data removed]",
      "text/plain": [
       "<Figure size 480x384 with 2 Axes>"
      ]
     },
     "metadata": {
      "needs_background": "light"
     },
     "output_type": "display_data"
    }
   ],
   "source": [
    "plot_funk(\n",
    "    arithmetic_mean,\n",
    "    continuous=True,\n",
    "    all_ticks=True)"
   ]
  }
 ],
 "metadata": {
  "kernelspec": {
   "display_name": "Python 3",
   "language": "python",
   "name": "python3"
  },
  "language_info": {
   "codemirror_mode": {
    "name": "ipython",
    "version": 3
   },
   "file_extension": ".py",
   "mimetype": "text/x-python",
   "name": "python",
   "nbconvert_exporter": "python",
   "pygments_lexer": "ipython3",
   "version": "3.7.9"
  }
 },
 "nbformat": 4,
 "nbformat_minor": 4
}
